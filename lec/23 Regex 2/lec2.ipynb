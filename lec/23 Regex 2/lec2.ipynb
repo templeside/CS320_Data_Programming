{
 "cells": [
  {
   "cell_type": "markdown",
   "id": "ebef2d6b",
   "metadata": {},
   "source": [
    "# Bigger Regex Examples"
   ]
  },
  {
   "cell_type": "markdown",
   "id": "e78d032b",
   "metadata": {},
   "source": [
    "## 1. Git Logs"
   ]
  },
  {
   "cell_type": "code",
   "execution_count": 3,
   "id": "54c1e3a8",
   "metadata": {},
   "outputs": [],
   "source": [
    "from subprocess import check_output"
   ]
  },
  {
   "cell_type": "code",
   "execution_count": 5,
   "id": "4e7bff5a",
   "metadata": {},
   "outputs": [
    {
     "data": {
      "text/plain": [
       "bytes"
      ]
     },
     "execution_count": 5,
     "metadata": {},
     "output_type": "execute_result"
    }
   ],
   "source": [
    "output = check_output([\"git\", \"log\"])\n",
    "type(output)"
   ]
  },
  {
   "cell_type": "code",
   "execution_count": 6,
   "id": "e8ac3fa4",
   "metadata": {},
   "outputs": [
    {
     "data": {
      "text/plain": [
       "str"
      ]
     },
     "execution_count": 6,
     "metadata": {},
     "output_type": "execute_result"
    }
   ],
   "source": [
    "output_str = str(output, encoding=\"utf-8\")\n",
    "type(output_str)"
   ]
  },
  {
   "cell_type": "code",
   "execution_count": 16,
   "id": "7d220ab8",
   "metadata": {},
   "outputs": [
    {
     "name": "stdout",
     "output_type": "stream",
     "text": [
      "commit 3b75172ae0671d6075dc58c3acf2c788bd77b4f6\n",
      "Author: Nils Palumbo <nilspalumbo@users.noreply.github.com>\n",
      "Date:   Tue Apr 5 15:32:48 2022 -0500\n",
      "\n",
      "    sic clarification\n",
      "\n",
      "commit 8af4824a31c4d4fe7f84418f900bf629c132bb70\n",
      "Author: Nils Palumbo <nilspalumbo@users.noreply.github.com>\n",
      "Date:   Tue Apr 5 15:29:56 2022 -0500\n",
      "\n",
      "    sic clarification\n",
      "\n",
      "commit 89d48b7a37433e997417e69f7c3f45b73baf1987\n",
      "Merge: 90aa7\n"
     ]
    }
   ],
   "source": [
    "# (1) commit nums, (2) day of week people are working, (3) commit authors, (4) find lines that mention projects\n",
    "print(output_str[:400])"
   ]
  },
  {
   "cell_type": "code",
   "execution_count": 21,
   "id": "796da884",
   "metadata": {},
   "outputs": [
    {
     "data": {
      "text/plain": [
       "['3b75172ae0671d6075dc58c3acf2c788',\n",
       " '8af4824a31c4d4fe7f84418f900bf629',\n",
       " '89d48b7a37433e997417e69f7c3f45b7',\n",
       " '90aa70da55c3499a45542729982fc925',\n",
       " '5b93916534885881a776a70522353c54']"
      ]
     },
     "execution_count": 21,
     "metadata": {},
     "output_type": "execute_result"
    }
   ],
   "source": [
    "# commit nums\n",
    "import re\n",
    "\n",
    "commits = re.findall(r\"[\\da-f]{32}\", output_str)\n",
    "commits[:5]\n",
    "# commits"
   ]
  },
  {
   "cell_type": "code",
   "execution_count": 22,
   "id": "7d358946",
   "metadata": {},
   "outputs": [
    {
     "data": {
      "text/plain": [
       "['Date:   Tue', 'Date:   Tue', 'Date:   Tue', 'Date:   Tue', 'Date:   Tue']"
      ]
     },
     "execution_count": 22,
     "metadata": {},
     "output_type": "execute_result"
    }
   ],
   "source": [
    "# day of week\n",
    "days = re.findall(r\"Date:\\s*\\w+\", output_str)\n",
    "days[:5]"
   ]
  },
  {
   "cell_type": "code",
   "execution_count": 23,
   "id": "a2f45b42",
   "metadata": {},
   "outputs": [
    {
     "data": {
      "text/plain": [
       "['Tue', 'Tue', 'Tue', 'Tue', 'Tue']"
      ]
     },
     "execution_count": 23,
     "metadata": {},
     "output_type": "execute_result"
    }
   ],
   "source": [
    "# day of week\n",
    "days = re.findall(r\"Date:\\s*(\\w+)\", output_str)\n",
    "days[:5]"
   ]
  },
  {
   "cell_type": "code",
   "execution_count": 24,
   "id": "ec9cdd82",
   "metadata": {},
   "outputs": [
    {
     "data": {
      "text/plain": [
       "Mon    49\n",
       "Tue    33\n",
       "Sat    21\n",
       "Thu    21\n",
       "Wed    19\n",
       "Fri    15\n",
       "Sun     7\n",
       "dtype: int64"
      ]
     },
     "execution_count": 24,
     "metadata": {},
     "output_type": "execute_result"
    }
   ],
   "source": [
    "import pandas as pd\n",
    "pd.Series(days).value_counts()"
   ]
  },
  {
   "cell_type": "code",
   "execution_count": 22,
   "id": "45284e85",
   "metadata": {},
   "outputs": [
    {
     "data": {
      "text/plain": [
       "<AxesSubplot:>"
      ]
     },
     "execution_count": 22,
     "metadata": {},
     "output_type": "execute_result"
    },
    {
     "data": {
      "image/png": "[encoded data removed]",
      "text/plain": [
       "<Figure size 432x288 with 1 Axes>"
      ]
     },
     "metadata": {
      "needs_background": "light"
     },
     "output_type": "display_data"
    }
   ],
   "source": [
    "pd.Series(days).value_counts().plot.bar()"
   ]
  },
  {
   "cell_type": "code",
   "execution_count": 26,
   "id": "9c358bbd",
   "metadata": {},
   "outputs": [
    {
     "name": "stdout",
     "output_type": "stream",
     "text": [
      "commit a2e8559bd376a7c5d71a9b6ee134377074f94f92\n",
      "Author: tylerharter <tylerharter@gmail.com>\n",
      "Date:   Sat Mar 26 13:22:00 2022 -0500\n",
      "\n",
      "    release lab 10\n",
      "\n",
      "commit c579fba91276d0c0917f1e7c38b1d7508aa9dda7\n",
      "Author: tylerharter <tylerharter@gmail.com>\n",
      "Date:   Sat Mar 26 13:20:37 2022 -0500\n",
      "\n",
      "    release lab 10\n",
      "\n",
      "commit 67fe330e970d73caa5a2898ed244bcca11eba492\n",
      "Merge: 7704410 4637d21\n",
      "Author: Tyler <tharter@wi\n"
     ]
    }
   ],
   "source": [
    "print(output_str[:400])"
   ]
  },
  {
   "cell_type": "code",
   "execution_count": 30,
   "id": "a0a1ec91",
   "metadata": {
    "scrolled": true
   },
   "outputs": [
    {
     "name": "stdout",
     "output_type": "stream",
     "text": [
      "['Nils Palumbo ', 'Nils Palumbo ', 'Nils Palumbo ', 'Nils Palumbo ', 'tylerharter ', 'tylerharter ', 'Tyler ', 'Nils Palumbo ', 'Nils Palumbo ', 'Tyler ', 'brycejoh16 ', 'Garrison Waugh ', 'Nils Palumbo ', 'Nils Palumbo ', 'Nils Palumbo ', 'Nils Palumbo ', 'tylerharter ', 'tylerharter ', 'Tyler ', 'Nils Palumbo ', 'Nils Palumbo ', 'Garrison Waugh ', 'Tyler ', 'tylerharter ', 'tylerharter ', 'Tyler ', 'Tyler ', 'Nils Palumbo ', 'Nils Palumbo ', 'Garrison Waugh ', 'Garrison Waugh ', 'Tyler ', 'Tyler ', 'Garrison Waugh ', 'tylerharter ', 'tylerharter ', 'Tyler ', 'Tyler ', 'tylerharter ', 'Tyler ', 'Garrison Waugh ', 'Garrison Waugh ', 'tylerharter ', 'tylerharter ', 'tylerharter ', 'tylerharter ', 'Tyler ', 'tylerharter ', 'Yiyin Shen ', 'Yiyin Shen ', 'Yiyin Shen ', 'Yiyin Shen ', 'WangHanSolo ', 'Tyler ', 'tylerharter ', 'Garrison Waugh ', 'tylerharter ', 'tylerharter ', 'Tyler ', 'Tyler ', 'tylerharter ', 'Tyler ', 'Tyler ', 'Tyler ', 'Dhananjayan P N ', 'Dhananjayan P N ', 'Tyler ', 'Tyler ', 'Tyler Caraza-Harter ', 'Garrison Waugh ', 'Garrison Waugh ', 'Garrison Waugh ', 'Connor ', 'Garrison Waugh ', 'Tyler ', 'Tyler ', 'Tyler ', 'Tyler ', 'tylerharter ', 'Tyler ', 'Tyler ', 'Tyler ', 'Tyler ', 'Tyler ', 'brycejoh16 ', 'Tyler ', 'tylerharter ', 'Tyler ', 'tylerharter ', 'tylerharter ', 'Tyler Caraza-Harter ', 'Tyler Caraza-Harter ', 'Garrison Waugh ', 'Garrison Waugh ', 'Tyler ', 'Keegan Conlee ', 'Connor ', 'tylerharter ', 'Tyler ', 'tylerharter ', 'tylerharter ', 'tylerharter ', 'tylerharter ', 'Tyler ', 'Cong Ding ', 'tylerharter ', 'Tyler ', 'Tyler ', 'Tyler ', 'Tyler ', 'tylerharter ', 'tylerharter ', 'Tyler ', 'Tyler ', 'Tyler ', 'tylerharter ', 'Garrison Waugh ', 'Cong Ding ', 'Tyler ', 'Tyler ', 'Tyler ', 'Garrison Waugh ', 'Garrison Waugh ', 'Tyler ', 'Tyler ', 'tylerharter ', 'Tyler ', 'tylerharter ', 'tylerharter ', 'tylerharter ', 'Tyler ', 'Tyler ', 'emmabrostrom ', 'Tyler ', 'tylerharter ', 'tylerharter ', 'brycejoh16 ', 'tylerharter ', 'tylerharter ', 'HanSoloWang ', 'brycejoh16 ', 'brycejoh16 ', 'brycejoh16 ', 'brycejoh16 ', 'brycejoh16 ', 'brycejoh16 ', 'brycejoh16 ', 'Tyler Caraza-Harter ', 'Tyler Caraza-Harter ', 'Tyler Caraza-Harter ', 'Tyler Caraza-Harter ', 'Tyler Caraza-Harter ', 'Tyler Caraza-Harter ', 'Tyler Caraza-Harter ', 'Tyler Caraza-Harter ', 'tylerharter ', 'tylerharter ', 'tylerharter ', 'tylerharter ', 'tylerharter ', 'tylerharter ', 'tylerharter ', 'tylerharter ', 'tylerharter ', 'Tyler Caraza-Harter ']\n"
     ]
    }
   ],
   "source": [
    "# author\n",
    "authors = re.findall(r\"Author:\\s*(.+)\\s*<\", output_str)\n",
    "print(authors)"
   ]
  },
  {
   "cell_type": "code",
   "execution_count": 32,
   "id": "89131dfd",
   "metadata": {
    "scrolled": true
   },
   "outputs": [
    {
     "name": "stdout",
     "output_type": "stream",
     "text": [
      "['Nils Palumbo', 'Nils Palumbo', 'Nils Palumbo', 'Nils Palumbo', 'tylerharter', 'tylerharter', 'Tyler', 'Nils Palumbo', 'Nils Palumbo', 'Tyler', 'brycejoh16', 'Garrison Waugh', 'Nils Palumbo', 'Nils Palumbo', 'Nils Palumbo', 'Nils Palumbo', 'tylerharter', 'tylerharter', 'Tyler', 'Nils Palumbo', 'Nils Palumbo', 'Garrison Waugh', 'Tyler', 'tylerharter', 'tylerharter', 'Tyler', 'Tyler', 'Nils Palumbo', 'Nils Palumbo', 'Garrison Waugh', 'Garrison Waugh', 'Tyler', 'Tyler', 'Garrison Waugh', 'tylerharter', 'tylerharter', 'Tyler', 'Tyler', 'tylerharter', 'Tyler', 'Garrison Waugh', 'Garrison Waugh', 'tylerharter', 'tylerharter', 'tylerharter', 'tylerharter', 'Tyler', 'tylerharter', 'Yiyin Shen', 'Yiyin Shen', 'Yiyin Shen', 'Yiyin Shen', 'WangHanSolo', 'Tyler', 'tylerharter', 'Garrison Waugh', 'tylerharter', 'tylerharter', 'Tyler', 'Tyler', 'tylerharter', 'Tyler', 'Tyler', 'Tyler', 'Dhananjayan P N', 'Dhananjayan P N', 'Tyler', 'Tyler', 'Tyler Caraza-Harter', 'Garrison Waugh', 'Garrison Waugh', 'Garrison Waugh', 'Connor', 'Garrison Waugh', 'Tyler', 'Tyler', 'Tyler', 'Tyler', 'tylerharter', 'Tyler', 'Tyler', 'Tyler', 'Tyler', 'Tyler', 'brycejoh16', 'Tyler', 'tylerharter', 'Tyler', 'tylerharter', 'tylerharter', 'Tyler Caraza-Harter', 'Tyler Caraza-Harter', 'Garrison Waugh', 'Garrison Waugh', 'Tyler', 'Keegan Conlee', 'Connor', 'tylerharter', 'Tyler', 'tylerharter', 'tylerharter', 'tylerharter', 'tylerharter', 'Tyler', 'Cong Ding', 'tylerharter', 'Tyler', 'Tyler', 'Tyler', 'Tyler', 'tylerharter', 'tylerharter', 'Tyler', 'Tyler', 'Tyler', 'tylerharter', 'Garrison Waugh', 'Cong Ding', 'Tyler', 'Tyler', 'Tyler', 'Garrison Waugh', 'Garrison Waugh', 'Tyler', 'Tyler', 'tylerharter', 'Tyler', 'tylerharter', 'tylerharter', 'tylerharter', 'Tyler', 'Tyler', 'emmabrostrom', 'Tyler', 'tylerharter', 'tylerharter', 'brycejoh16', 'tylerharter', 'tylerharter', 'HanSoloWang', 'brycejoh16', 'brycejoh16', 'brycejoh16', 'brycejoh16', 'brycejoh16', 'brycejoh16', 'brycejoh16', 'Tyler Caraza-Harter', 'Tyler Caraza-Harter', 'Tyler Caraza-Harter', 'Tyler Caraza-Harter', 'Tyler Caraza-Harter', 'Tyler Caraza-Harter', 'Tyler Caraza-Harter', 'Tyler Caraza-Harter', 'tylerharter', 'tylerharter', 'tylerharter', 'tylerharter', 'tylerharter', 'tylerharter', 'tylerharter', 'tylerharter', 'tylerharter', 'Tyler Caraza-Harter']\n"
     ]
    }
   ],
   "source": [
    "# author\n",
    "authors = re.findall(r\"Author:\\s*(.+?)\\s*<\", output_str)\n",
    "print(authors)"
   ]
  },
  {
   "cell_type": "markdown",
   "id": "441aaa1f",
   "metadata": {},
   "source": []
  },
  {
   "cell_type": "code",
   "execution_count": 34,
   "id": "e9b3ee34",
   "metadata": {},
   "outputs": [
    {
     "data": {
      "text/plain": [
       "['p5 note',\n",
       " 'p5 update',\n",
       " 'p5, lab 11',\n",
       " 'p5 draft',\n",
       " 'p5 draft',\n",
       " 'p4 tips',\n",
       " 'p4 release',\n",
       " 'p4 updates',\n",
       " 'P4 tester',\n",
       " 'un-release P4',\n",
       " 'p4 draft',\n",
       " 'Changed s22 README.md back to original README.md. Was accidentally changed to hold p3 draft instead of nav links.',\n",
       " 'release p3',\n",
       " 'p3 updates',\n",
       " 'p3 updates',\n",
       " 'p3 screenshot',\n",
       " 'p3 updates',\n",
       " 'complete p3 tester',\n",
       " 'p3 draft',\n",
       " 'p2 corrections',\n",
       " 'Correction to p2 Q7',\n",
       " 'p2 updates',\n",
       " 'p2 updates',\n",
       " 'release P2',\n",
       " 'p2 testing info',\n",
       " '320 p2 clarification',\n",
       " 'finish p2 search_test',\n",
       " 'finish p2 loans_test',\n",
       " 'p2 module tester started',\n",
       " 'p2 draft',\n",
       " 'p2 draft',\n",
       " 'release p1',\n",
       " 'p1 draft']"
      ]
     },
     "execution_count": 34,
     "metadata": {},
     "output_type": "execute_result"
    }
   ],
   "source": [
    "# find all lines that mention a project (p1, P2, ...)\n",
    "lines = re.findall(r\".*[pP]\\d+.*\", output_str)\n",
    "lines = [line.strip() for line in lines]\n",
    "lines"
   ]
  },
  {
   "cell_type": "markdown",
   "id": "1fa05be5",
   "metadata": {},
   "source": [
    "## 2. Emails"
   ]
  },
  {
   "cell_type": "code",
   "execution_count": 43,
   "id": "aa6e7934",
   "metadata": {},
   "outputs": [],
   "source": [
    "text = \"\"\"\n",
    "Tyler [Instructor] - tharter (AT) wisc.edu\n",
    "Cong [Head TA] - cding44 (AT) wisc.edu\n",
    "Bryce [TA] - bcjohnson7 (AT) wisc.edu\n",
    "Connor [TA] - cbailey9 (AT) wisc.edu\n",
    "Han [TA] - hwang638 (AT) wisc.edu\n",
    "Hardik [TA] - hchauhan2 (AT) wisc.edu\n",
    "Keaton [TA] - kleppanen (AT) wisc.edu\n",
    "Nils [TA] - npalumbo (AT) wisc.edu\n",
    "Yiyin [TA] - yshen82 (AT) wisc.edu\n",
    "tharter@wisc.edu\n",
    "\"\"\""
   ]
  },
  {
   "cell_type": "code",
   "execution_count": 39,
   "id": "9896b00c",
   "metadata": {},
   "outputs": [
    {
     "name": "stderr",
     "output_type": "stream",
     "text": [
      "/tmp/ipykernel_25434/1704182618.py:1: DeprecationWarning: Importing display from IPython.core.display is deprecated since IPython 7.14, please import from IPython display\n",
      "  from IPython.core.display import display, HTML\n"
     ]
    },
    {
     "data": {
      "text/html": [
       "<!doctype html>\n",
       "<html lang=\"en\">\n",
       "  <head>\n",
       "    <meta charset=\"utf-8\">\n",
       "    <meta name=\"viewport\" content=\"width=device-width, initial-scale=1, shrink-to-fit=no\">\n",
       "    <meta name=\"description\" content=\"\">\n",
       "    <meta name=\"author\" content=\"\">\n",
       "\n",
       "    <!-- Google Auth stuff -->\n",
       "    <meta name=\"google-signin-scope\" content=\"profile email\">\n",
       "    <meta name=\"google-signin-client_id\" content=\"531980636037-3a6miiekf2ao8d0n7qv1fkrev8cbvvdt.apps.googleusercontent.com\">\n",
       "\n",
       "    <title>Tyler R. Caraza-Harter</title>\n",
       "\n",
       "    <!-- Bootstrap core CSS -->\n",
       "    <link rel=\"stylesheet\" href=\"https://stackpath.bootstrapcdn.com/bootstrap/4.1.1/css/bootstrap.min.css\" integrity=\"sha384-WskhaSGFgHYWDcbwN70/dfYBj47jz9qbsMId/iRN3ewGhXQFZCSftd1LZCfmhktB\" crossorigin=\"anonymous\">\n",
       "\n",
       "    <!-- Custom styles for this template -->\n",
       "    <link href=\"css/custom.css\" rel=\"stylesheet\">\n",
       "    <link href=\"css/loader.css\" rel=\"stylesheet\">\n",
       "\n",
       "    <link rel=\"shortcut icon\" type=\"image/x-icon\" href=\"img/favicon.ico\">\n",
       "  </head>\n",
       "\n",
       "  <body>\n",
       "    <header>\n",
       "      <!-- Fixed navbar -->\n",
       "      <nav class=\"navbar navbar-expand-md navbar-dark fixed-top bg-custom\">\n",
       "\t<a class=\"navbar-brand\" href=\"schedule.html\">Data Programming II</a>\n",
       "\t<button class=\"navbar-toggler\" type=\"button\" data-toggle=\"collapse\" data-target=\"#navbarCollapse\" aria-controls=\"navbarCollapse\" aria-expanded=\"false\" aria-label=\"Toggle navigation\">\n",
       "\t  <span class=\"navbar-toggler-icon\"></span>\n",
       "\t</button>\n",
       "\t<div class=\"collapse navbar-collapse\" id=\"navbarCollapse\">\n",
       "\t  <ul class=\"navbar-nav mr-auto\">\n",
       "\t    <li class=\"nav-item\">\n",
       "\t      <a class=\"nav-link\" href=\"schedule.html\">Schedule</a>\n",
       "\t    </li>\n",
       "\t    <li class=\"nav-item\">\n",
       "\t      <a class=\"nav-link\" href=\"syllabus.html\">Syllabus</a>\n",
       "\t    </li>\n",
       "            <li class=\"nav-item\">\n",
       "\t      <a class=\"nav-link\" href=\"submission.html\">Projects</a>\n",
       "\t    </li>\n",
       "\t    <li class=\"nav-item dropdown\">\n",
       "\t      <a class=\"nav-link dropdown-toggle\" href=\"#\" id=\"navbarDropdown\" role=\"button\" data-toggle=\"dropdown\" aria-haspopup=\"true\" aria-expanded=\"false\">\n",
       "\t\tResources\n",
       "\t      </a>\n",
       "\t      <div class=\"dropdown-menu\" aria-labelledby=\"navbarDropdown\">\n",
       "                <a class=\"dropdown-item\" href=\"contact.html\">Contact</a>\n",
       "                <a class=\"dropdown-item\" href=\"https://docs.google.com/spreadsheets/d/1PtRrNqNl53LYy16yMkw-xLLnBPEfM5gpMbKxNMNDgB8/edit?usp=sharing\">Office Hours</a>\n",
       "                <a class=\"dropdown-item\" href=\"messages.html?topic=group\">Group Info</a>\n",
       "                <a class=\"dropdown-item\" href=\"messages.html?topic=exam1\">Exam 1 Answers</a>\n",
       "                <a class=\"dropdown-item\" href=\"https://tinyurl.com/2p82uuvz\">Lecture Snippets</a>\n",
       "\t      </div>\n",
       "\t    </li>\n",
       "\n",
       "            <li class=\"nav-item dropdown\">\n",
       "\t      <a class=\"nav-link dropdown-toggle\" href=\"#\" id=\"navbarDropdown\" role=\"button\" data-toggle=\"dropdown\" aria-haspopup=\"true\" aria-expanded=\"false\">\n",
       "\t\tTools\n",
       "\t      </a>\n",
       "\t      <div class=\"dropdown-menu\" aria-labelledby=\"navbarDropdown\">\n",
       "                <a class=\"dropdown-item\" href=\"https://piazza.com/class/kykcroz4gtv5s0\" target=\"_blank\">Piazza</a>\n",
       "                <a class=\"dropdown-item\" href=\"https://canvas.wisc.edu/courses/293982\" target=\"_blank\">Canvas</a>\n",
       "                <a class=\"dropdown-item\" href=\"surveys.html\">Class Forms</a>\n",
       "                <a class=\"dropdown-item\" href=\"http://pythontutor.com/visualize.html#mode=edit\" target=\"_blank\">Python Tutor</a>\n",
       "                <a class=\"dropdown-item\" href=\"https://tyler.caraza-harter.com/cs320/learnGitBranching/index.html\" target=\"_blank\">Git Simulator</a>\n",
       "                <a class=\"dropdown-item\" href=\"reviewer.html\">TA Only</a>\n",
       "\t      </div>\n",
       "\t    </li>\n",
       "\n",
       "            <li class=\"nav-item\">\n",
       "              <button class=\"btn btn-outline-light my-2 my-sm-0\" onclick=\"common.googleSignOut()\" id=\"signout\" style=\"display:none;\">Logout</button>\n",
       "\t    </li>\n",
       "\t  </ul>\n",
       "\t</div>\n",
       "      </nav>\n",
       "    </header>\n",
       "\n",
       "    <!-- Begin page content -->\n",
       "    <main role=\"main\" class=\"container\">\n",
       "      <h1 class=\"mt-5\">Contact</h1>\n",
       "\n",
       "<p>Debugging help is usually best in person, but if you can't make\n",
       "that, or have another question not well suited to Piazza, feel free to\n",
       "drop us an email:\n",
       "\n",
       "<ul>\n",
       "  <li>Tyler [Instructor] - tharter (AT) wisc.edu\n",
       "  <li>Cong [Head TA] - cding44 (AT) wisc.edu\n",
       "  <li>Bryce [TA] - bcjohnson7 (AT) wisc.edu\n",
       "  <li>Connor [TA] - cbailey9 (AT) wisc.edu\n",
       "  <li>Han [TA] - hwang638 (AT) wisc.edu\n",
       "  <li>Hardik [TA] - hchauhan2 (AT) wisc.edu\n",
       "  <li>Keaton [TA] - kleppanen (AT) wisc.edu\n",
       "  <li>Nils [TA] - npalumbo (AT) wisc.edu\n",
       "  <li>Yiyin [TA] - yshen82 (AT) wisc.edu\n",
       "</ul>\n",
       "\n",
       "<p>Depending on the question, it my be best to ask the instructor,\n",
       "head TA, your team TA, or grader TA (person who reviewed your project\n",
       "work).  Here is who you should ideally email in some specific cases:\n",
       "\n",
       "<ul>\n",
       "  <li>[Instructor] Questions about lecture content\n",
       "  <li>[Instructor] Anything about exams/quizzes\n",
       "  <li>[Instructor] Advice on other courses, grad school, career\n",
       "  <li>[Instructor] Falling behind in course, feeling overwhelmed\n",
       "  <li>[Your Group TA] Technical issues with your programming environment (laptop, virtual machine, etc)\n",
       "  <li>[Your Group TA] Technical questions about a project\n",
       "  <li>[Your Group TA] Request an extension\n",
       "  <li>[Your Grader TA] Project grades are wrong on <u>submission site</u>\n",
       "  <li>[Your Grader TA] Request a resubmit\n",
       "  <li>[Head TA] Project grades are wrong on <u>Canvas</u>\n",
       "  <li>[Head TA] There's a possible mistake on the project description or tests\n",
       "</ul>\n",
       "\n",
       "<br><br>\n",
       "\n",
       "\n",
       "      <script>\n",
       "        // this is a hack so that signin works, regardless of whether google or common.js\n",
       "        // loads first\n",
       "        var gapiLoaded = false\n",
       "        var gapiLoadedCallback = null\n",
       "\n",
       "        function gapiLoad() {\n",
       "        console.log(\"in gapiLoad\")\n",
       "        gapiLoaded = true\n",
       "        if (gapiLoadedCallback != null) {\n",
       "        console.log(\"call gapi callback\")\n",
       "        gapiLoadedCallback()\n",
       "        }\n",
       "        }\n",
       "      </script>\n",
       "\n",
       "      <!-- popups -->\n",
       "      <div class=\"loader\" id=\"loader_wheel\" style=\"display:none;\"></div>\n",
       "\n",
       "      <div class=\"center_fixed_text alert alert-success\" id=\"thank_you\" style=\"display:none;\">\n",
       "        <strong>Submitted</strong> - thank you.\n",
       "      </div>\n",
       "\n",
       "      <div class=\"alert alert-danger alert-dismissible fade show clicker_alert\" role=\"alert\" id=\"error_box\" style=\"display:none;\">\n",
       "        <button type=\"button\" class=\"close\" onclick=\"$('#error_box').hide()\">\n",
       "          <span aria-hidden=\"true\">&times;</span>\n",
       "        </button>\n",
       "        <strong>Error:</strong> <span id=\"error_message\"></span>\n",
       "      </div>\n",
       "    </main>\n",
       "\n",
       "    <footer class=\"footer\">\n",
       "      <div class=\"container\">\n",
       "\t<span class=\"text-muted\">Copyright &copy; 2022 Tyler R. Caraza-Harter</span>\n",
       "      </div>\n",
       "    </footer>\n",
       "\n",
       "    <!-- dependencies -->\n",
       "    <script src=\"https://code.jquery.com/jquery-3.3.1.min.js\"\n",
       "\t    integrity=\"sha256-FgpCb/KJQlLNfOu91ta32o/NMZxltwRo8QtmkMRdAu8=\"\n",
       "\t    crossorigin=\"anonymous\"></script>\n",
       "    <script src=\"https://cdnjs.cloudflare.com/ajax/libs/popper.js/1.14.3/umd/popper.min.js\"\n",
       "\t    integrity=\"sha384-ZMP7rVo3mIykV+2+9J3UJ46jBk0WLaUAdn689aCwoqbBJiSnjAK/l8WvCWPIPm49\"\n",
       "\t    crossorigin=\"anonymous\"></script>\n",
       "    <script src=\"https://stackpath.bootstrapcdn.com/bootstrap/4.1.1/js/bootstrap.min.js\"\n",
       "\t    integrity=\"sha384-smHYKdLADwkXOn1EmN1qk/HfnUcbVRZyYmZ4qpPea6sjB/pTJ0euyQp0Mk8ck+5T\"\n",
       "\t    crossorigin=\"anonymous\"></script>\n",
       "\n",
       "    <!-- main js -->\n",
       "    <script src=\"js/code-prettify/run_prettify.js\"></script>\n",
       "    <script src=\"js/common.js\"></script>\n",
       "    \n",
       "    <script src=\"https://apis.google.com/js/platform.js?onload=gapiLoad\" defer async></script>\n",
       "  </body>\n",
       "</html>\n"
      ],
      "text/plain": [
       "<IPython.core.display.HTML object>"
      ]
     },
     "execution_count": 39,
     "metadata": {},
     "output_type": "execute_result"
    }
   ],
   "source": [
    "import requests\n",
    "resp = requests.get(\"https://tyler.caraza-harter.com/cs320/s22/contact.html\")\n",
    "resp.raise_for_status()\n",
    "text = resp.text.replace(\"<b>\", \"\").replace(\"</b>\", \"\")"
   ]
  },
  {
   "cell_type": "code",
   "execution_count": 67,
   "id": "4226824c",
   "metadata": {},
   "outputs": [
    {
     "name": "stdout",
     "output_type": "stream",
     "text": [
      "((\\w+)\\s*([\\(\\[]?(@|at|AT)[\\)\\]]?)\\s*(\\w+\\.(edu|com|net|org|io)))\n",
      "tharter@wisc.edu\n",
      "cding44@wisc.edu\n",
      "bcjohnson7@wisc.edu\n",
      "cbailey9@wisc.edu\n",
      "hwang638@wisc.edu\n",
      "hchauhan2@wisc.edu\n",
      "kleppanen@wisc.edu\n",
      "npalumbo@wisc.edu\n",
      "yshen82@wisc.edu\n"
     ]
    }
   ],
   "source": [
    "name = r\"(\\w+)\"\n",
    "at = r\"([\\(\\[]?(@|at|AT)[\\)\\]]?)\"\n",
    "domain = r\"(\\w+\\.(edu|com|net|org|io))\"\n",
    "\n",
    "regex = f\"({name}\\s*{at}\\s*{domain})\"\n",
    "\n",
    "print(regex)\n",
    "for tup in re.findall(regex, text):\n",
    "    print(tup[1] + \"@\" + tup[4])"
   ]
  },
  {
   "cell_type": "markdown",
   "id": "97248fe6",
   "metadata": {},
   "source": [
    "## 3. Function Names"
   ]
  },
  {
   "cell_type": "code",
   "execution_count": 52,
   "id": "b8472110",
   "metadata": {},
   "outputs": [],
   "source": [
    "from shapely.geometry import box, Point\n",
    "x= box(0,0,2,2)\n",
    "y=box(1,1,3,3)"
   ]
  },
  {
   "cell_type": "code",
   "execution_count": 47,
   "id": "cbf1e3fd",
   "metadata": {},
   "outputs": [
    {
     "name": "stdout",
     "output_type": "stream",
     "text": [
      "[[30 20]\n",
      " [ 2  6]]\n",
      "[[6 4]\n",
      " [1 3]]\n",
      "[[5]\n",
      " [2]]\n"
     ]
    }
   ],
   "source": [
    "import numpy as np\n",
    "\n",
    "A=np.array([[6,4],[1,3]])\n",
    "B=np.array([[5],[2]])\n",
    "print(A*B)\n",
    "print(A)\n",
    "print(B)"
   ]
  },
  {
   "cell_type": "code",
   "execution_count": 42,
   "id": "c58f3e4e",
   "metadata": {
    "scrolled": true
   },
   "outputs": [
    {
     "data": {
      "text/plain": [
       "array([[38],\n",
       "       [11]])"
      ]
     },
     "execution_count": 42,
     "metadata": {},
     "output_type": "execute_result"
    }
   ],
   "source": [
    "np.dot(A,B)"
   ]
  },
  {
   "cell_type": "code",
   "execution_count": 55,
   "id": "2a7f01eb",
   "metadata": {
    "scrolled": true
   },
   "outputs": [
    {
     "name": "stdout",
     "output_type": "stream",
     "text": [
      " * Serving Flask app 'my application' (lazy loading)\n",
      " * Environment: production\n",
      "\u001b[31m   WARNING: This is a development server. Do not use it in a production deployment.\u001b[0m\n",
      "\u001b[2m   Use a production WSGI server instead.\u001b[0m\n",
      " * Debug mode: on\n"
     ]
    },
    {
     "name": "stderr",
     "output_type": "stream",
     "text": [
      " * Running on all addresses.\n",
      "   WARNING: This is a development server. Do not use it in a production deployment.\n",
      " * Running on http://10.128.0.2:5000/ (Press CTRL+C to quit)\n",
      " * Restarting with stat\n",
      "Traceback (most recent call last):\n",
      "  File \"/home/charles/.local/lib/python3.8/site-packages/ipykernel_launcher.py\", line 16, in <module>\n",
      "    app.launch_new_instance()\n",
      "  File \"/home/charles/.local/lib/python3.8/site-packages/traitlets/config/application.py\", line 845, in launch_instance\n",
      "    app.initialize(argv)\n",
      "  File \"/home/charles/.local/lib/python3.8/site-packages/traitlets/config/application.py\", line 88, in inner\n",
      "    return method(app, *args, **kwargs)\n",
      "  File \"/home/charles/.local/lib/python3.8/site-packages/ipykernel/kernelapp.py\", line 632, in initialize\n",
      "    self.init_sockets()\n",
      "  File \"/home/charles/.local/lib/python3.8/site-packages/ipykernel/kernelapp.py\", line 282, in init_sockets\n",
      "    self.shell_port = self._bind_socket(self.shell_socket, self.shell_port)\n",
      "  File \"/home/charles/.local/lib/python3.8/site-packages/ipykernel/kernelapp.py\", line 229, in _bind_socket\n",
      "    return self._try_bind_socket(s, port)\n",
      "  File \"/home/charles/.local/lib/python3.8/site-packages/ipykernel/kernelapp.py\", line 205, in _try_bind_socket\n",
      "    s.bind(\"tcp://%s:%i\" % (self.ip, port))\n",
      "  File \"/home/charles/.local/lib/python3.8/site-packages/zmq/sugar/socket.py\", line 214, in bind\n",
      "    super().bind(addr)\n",
      "  File \"zmq/backend/cython/socket.pyx\", line 540, in zmq.backend.cython.socket.Socket.bind\n",
      "  File \"zmq/backend/cython/checkrc.pxd\", line 28, in zmq.backend.cython.checkrc._check_rc\n",
      "zmq.error.ZMQError: Address already in use\n"
     ]
    },
    {
     "ename": "SystemExit",
     "evalue": "1",
     "output_type": "error",
     "traceback": [
      "An exception has occurred, use %tb to see the full traceback.\n",
      "\u001b[0;31mSystemExit\u001b[0m\u001b[0;31m:\u001b[0m 1\n"
     ]
    },
    {
     "name": "stderr",
     "output_type": "stream",
     "text": [
      "/home/charles/.local/lib/python3.8/site-packages/IPython/core/interactiveshell.py:3259: UserWarning: To exit: use 'exit', 'quit', or Ctrl-D.\n",
      "  warn(\"To exit: use 'exit', 'quit', or Ctrl-D.\", stacklevel=1)\n"
     ]
    }
   ],
   "source": [
    "import flask\n",
    "app = flask.Flask(\"my application\")\n",
    "\n",
    "@app.route(\"/\")\n",
    "def home():\n",
    "    print(\"X\")\n",
    "    return '<html><body><img src=\"example.svg\"></body></html>'\n",
    "    \n",
    "@app.route(\"/example.svg\")\n",
    "def handler1():\n",
    "    print(\"Y\")\n",
    "    return \"TODO\"\n",
    "@app.route(\"/out.svg\")\n",
    "def handler2():\n",
    "    print(\"Z\")\n",
    "    return \"TODO\"\n",
    "if __name__ == \"main\":\n",
    "    app.run(host =\"0.0.0.0\", debug = True, threaded = False)"
   ]
  }
 ],
 "metadata": {
  "kernelspec": {
   "display_name": "Python 3 (ipykernel)",
   "language": "python",
   "name": "python3"
  },
  "language_info": {
   "codemirror_mode": {
    "name": "ipython",
    "version": 3
   },
   "file_extension": ".py",
   "mimetype": "text/x-python",
   "name": "python",
   "nbconvert_exporter": "python",
   "pygments_lexer": "ipython3",
   "version": "3.8.10"
  }
 },
 "nbformat": 4,
 "nbformat_minor": 5
}
