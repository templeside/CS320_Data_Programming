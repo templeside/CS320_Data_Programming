{
 "cells": [
  {
   "cell_type": "code",
   "execution_count": 1,
   "id": "36d10536",
   "metadata": {},
   "outputs": [
    {
     "name": "stderr",
     "output_type": "stream",
     "text": [
      "/usr/lib/python3/dist-packages/requests/__init__.py:89: RequestsDependencyWarning: urllib3 (1.26.8) or chardet (3.0.4) doesn't match a supported version!\n",
      "  warnings.warn(\"urllib3 ({}) or chardet ({}) doesn't match a supported \"\n"
     ]
    }
   ],
   "source": [
    "import requests"
   ]
  },
  {
   "cell_type": "code",
   "execution_count": 5,
   "id": "b89e5b47",
   "metadata": {},
   "outputs": [],
   "source": [
    "import urllib.robotparser\n",
    "rp = urllib.robotparser.RobotFileParser()\n",
    "url = \"http://35.223.221.136:5000/laugh.html\"\n",
    "rp.set_url(url)\n",
    "rp.read()"
   ]
  },
  {
   "cell_type": "code",
   "execution_count": 7,
   "id": "be09cc46",
   "metadata": {},
   "outputs": [
    {
     "data": {
      "text/plain": [
       "True"
      ]
     },
     "execution_count": 7,
     "metadata": {},
     "output_type": "execute_result"
    }
   ],
   "source": [
    "rp.can_fetch(\"cs320bot\", \"http://35.223.221.136:5000/\")"
   ]
  },
  {
   "cell_type": "code",
   "execution_count": 12,
   "id": "09f72a52",
   "metadata": {
    "scrolled": true
   },
   "outputs": [
    {
     "data": {
      "text/plain": [
       "True"
      ]
     },
     "execution_count": 12,
     "metadata": {},
     "output_type": "execute_result"
    }
   ],
   "source": [
    "rp.can_fetch(\"cs320bot\", \"http://35.223.221.136:5000/laugh.html\")"
   ]
  },
  {
   "cell_type": "code",
   "execution_count": 13,
   "id": "d20e39df",
   "metadata": {},
   "outputs": [],
   "source": [
    "rp."
   ]
  },
  {
   "cell_type": "code",
   "execution_count": 26,
   "id": "2bab3459",
   "metadata": {},
   "outputs": [
    {
     "name": "stdout",
     "output_type": "stream",
     "text": [
      "<class 'requests.models.Response'>\n",
      "{'Content-Type': 'text/html; charset=utf-8', 'Content-Length': '8', 'Server': 'Werkzeug/2.0.3 Python/3.8.10', 'Date': 'Sun, 27 Mar 2022 22:54:27 GMT'}\n"
     ]
    },
    {
     "data": {
      "text/plain": [
       "'welcome!'"
      ]
     },
     "execution_count": 26,
     "metadata": {},
     "output_type": "execute_result"
    }
   ],
   "source": [
    "import time\n",
    "\n",
    "# 1. respect robots.txt\n",
    "# 2. respect 429 responses\n",
    "\n",
    "def friendly_get(url):\n",
    "    assert rp.can_fetch(\"cs320bot\", url)\n",
    "    while True:\n",
    "        resp = requests.get(url)\n",
    "        \n",
    "        print(type(resp))\n",
    "        print(resp.headers)\n",
    "        if resp.status_code == 429:\n",
    "            #print(resp.headers)\n",
    "            seconds = int(resp.headers.get('Retry-After', 1))\n",
    "            print(\"SLEEP\", seconds)\n",
    "            time.sleep(seconds)\n",
    "            continue\n",
    "        else:\n",
    "            break\n",
    "    resp.raise_for_status()\n",
    "    return resp\n",
    "\n",
    "url = \"http://35.223.221.136:5000/goaway.html\"\n",
    "resp = friendly_get(url)\n",
    "resp.text"
   ]
  },
  {
   "cell_type": "code",
   "execution_count": null,
   "id": "fb3d99c8",
   "metadata": {},
   "outputs": [],
   "source": []
  }
 ],
 "metadata": {
  "kernelspec": {
   "display_name": "Python 3 (ipykernel)",
   "language": "python",
   "name": "python3"
  },
  "language_info": {
   "codemirror_mode": {
    "name": "ipython",
    "version": 3
   },
   "file_extension": ".py",
   "mimetype": "text/x-python",
   "name": "python",
   "nbconvert_exporter": "python",
   "pygments_lexer": "ipython3",
   "version": "3.8.10"
  }
 },
 "nbformat": 4,
 "nbformat_minor": 5
}
