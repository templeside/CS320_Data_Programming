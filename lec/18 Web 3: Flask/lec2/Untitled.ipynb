{
 "cells": [
  {
   "cell_type": "code",
   "execution_count": 1,
   "id": "c81f0f72",
   "metadata": {},
   "outputs": [
    {
     "name": "stderr",
     "output_type": "stream",
     "text": [
      "/usr/lib/python3/dist-packages/requests/__init__.py:89: RequestsDependencyWarning: urllib3 (1.26.8) or chardet (3.0.4) doesn't match a supported version!\n",
      "  warnings.warn(\"urllib3 ({}) or chardet ({}) doesn't match a supported \"\n"
     ]
    }
   ],
   "source": [
    "import requests"
   ]
  },
  {
   "cell_type": "code",
   "execution_count": 5,
   "id": "317cbaee",
   "metadata": {},
   "outputs": [
    {
     "data": {
      "text/plain": [
       "'hahahahahahahahahaha'"
      ]
     },
     "execution_count": 5,
     "metadata": {},
     "output_type": "execute_result"
    }
   ],
   "source": [
    "url = \"http://35.223.221.136:5000/laugh.html\"\n",
    "resp = requests.get(url)\n",
    "resp.text "
   ]
  },
  {
   "cell_type": "code",
   "execution_count": 7,
   "id": "60d0add3",
   "metadata": {},
   "outputs": [],
   "source": [
    "import urllib.robotparser\n",
    "rp = urllib.robotparser.RobotFileParser()\n",
    "url = \"http://35.223.221.136:5000/robots.txt\"\n",
    "rp.set_url(url)\n",
    "rp.read()"
   ]
  },
  {
   "cell_type": "code",
   "execution_count": 8,
   "id": "1add7308",
   "metadata": {},
   "outputs": [
    {
     "data": {
      "text/plain": [
       "True"
      ]
     },
     "execution_count": 8,
     "metadata": {},
     "output_type": "execute_result"
    }
   ],
   "source": [
    "rp.can_fetch(\"cs320bot\", \"http://35.223.221.136:5000/robots.txt\")"
   ]
  },
  {
   "cell_type": "code",
   "execution_count": 9,
   "id": "2df5a83e",
   "metadata": {},
   "outputs": [
    {
     "data": {
      "text/plain": [
       "True"
      ]
     },
     "execution_count": 9,
     "metadata": {},
     "output_type": "execute_result"
    }
   ],
   "source": [
    "rp.can_fetch(\"cs320bot\", \"http://35.223.221.136:5000/laugh.html\")"
   ]
  },
  {
   "cell_type": "code",
   "execution_count": 4,
   "id": "dd40588e",
   "metadata": {},
   "outputs": [],
   "source": [
    "@app.route(\"/\")\n",
    "def home():\n",
    "    with open(\"index.html\") as f:\n",
    "        html = f.read()\n",
    "        \n",
    "    return html\n",
    "\n",
    "if __name__ == \"main\":\n",
    "    app.run(host =\"0.0.0.0\", debug = True, threaded = False)"
   ]
  }
 ],
 "metadata": {
  "kernelspec": {
   "display_name": "Python 3 (ipykernel)",
   "language": "python",
   "name": "python3"
  },
  "language_info": {
   "codemirror_mode": {
    "name": "ipython",
    "version": 3
   },
   "file_extension": ".py",
   "mimetype": "text/x-python",
   "name": "python",
   "nbconvert_exporter": "python",
   "pygments_lexer": "ipython3",
   "version": "3.8.10"
  }
 },
 "nbformat": 4,
 "nbformat_minor": 5
}
