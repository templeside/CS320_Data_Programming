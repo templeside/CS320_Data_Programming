{
 "cells": [
  {
   "cell_type": "code",
   "execution_count": 2,
   "id": "595552f8",
   "metadata": {},
   "outputs": [],
   "source": [
    "import geopandas as gpd\n",
    "import matplotlib.pyplot as plt\n",
    "from shapely.geometry import Polygon, box, Point\n",
    "import pandas as pd\n",
    "from sqlite3 import connect\n",
    "\n",
    "from sklearn.model_selection import train_test_split\n",
    "from sklearn.linear_model import LinearRegression\n",
    "import numpy as np\n",
    "from sklearn.model_selection import cross_val_score\n"
   ]
  },
  {
   "cell_type": "code",
   "execution_count": null,
   "id": "6b698baa",
   "metadata": {},
   "outputs": [],
   "source": [
    "locations = gpd.read_file(\"counties.geojson\")\n",
    "locations.head()"
   ]
  },
  {
   "cell_type": "code",
   "execution_count": null,
   "id": "d210e651",
   "metadata": {},
   "outputs": [],
   "source": [
    "#q1\n",
    "len(locations['NAME'].unique())"
   ]
  },
  {
   "cell_type": "code",
   "execution_count": 3,
   "id": "ba848618",
   "metadata": {
    "scrolled": true
   },
   "outputs": [
    {
     "data": {
      "text/html": [
       "<div>\n",
       "<style scoped>\n",
       "    .dataframe tbody tr th:only-of-type {\n",
       "        vertical-align: middle;\n",
       "    }\n",
       "\n",
       "    .dataframe tbody tr th {\n",
       "        vertical-align: top;\n",
       "    }\n",
       "\n",
       "    .dataframe thead th {\n",
       "        text-align: right;\n",
       "    }\n",
       "</style>\n",
       "<table border=\"1\" class=\"dataframe\">\n",
       "  <thead>\n",
       "    <tr style=\"text-align: right;\">\n",
       "      <th></th>\n",
       "      <th>type</th>\n",
       "      <th>name</th>\n",
       "      <th>tbl_name</th>\n",
       "      <th>rootpage</th>\n",
       "      <th>sql</th>\n",
       "    </tr>\n",
       "  </thead>\n",
       "  <tbody>\n",
       "    <tr>\n",
       "      <th>0</th>\n",
       "      <td>table</td>\n",
       "      <td>counties</td>\n",
       "      <td>counties</td>\n",
       "      <td>2</td>\n",
       "      <td>CREATE TABLE \"counties\" (\\n\"index\" INTEGER,\\n ...</td>\n",
       "    </tr>\n",
       "    <tr>\n",
       "      <th>1</th>\n",
       "      <td>index</td>\n",
       "      <td>ix_counties_index</td>\n",
       "      <td>counties</td>\n",
       "      <td>3</td>\n",
       "      <td>CREATE INDEX \"ix_counties_index\"ON \"counties\" ...</td>\n",
       "    </tr>\n",
       "    <tr>\n",
       "      <th>2</th>\n",
       "      <td>table</td>\n",
       "      <td>tracts</td>\n",
       "      <td>tracts</td>\n",
       "      <td>4</td>\n",
       "      <td>CREATE TABLE \"tracts\" (\\n\"index\" INTEGER,\\n  \"...</td>\n",
       "    </tr>\n",
       "    <tr>\n",
       "      <th>3</th>\n",
       "      <td>index</td>\n",
       "      <td>ix_tracts_index</td>\n",
       "      <td>tracts</td>\n",
       "      <td>5</td>\n",
       "      <td>CREATE INDEX \"ix_tracts_index\"ON \"tracts\" (\"in...</td>\n",
       "    </tr>\n",
       "  </tbody>\n",
       "</table>\n",
       "</div>"
      ],
      "text/plain": [
       "    type               name  tbl_name  rootpage  \\\n",
       "0  table           counties  counties         2   \n",
       "1  index  ix_counties_index  counties         3   \n",
       "2  table             tracts    tracts         4   \n",
       "3  index    ix_tracts_index    tracts         5   \n",
       "\n",
       "                                                 sql  \n",
       "0  CREATE TABLE \"counties\" (\\n\"index\" INTEGER,\\n ...  \n",
       "1  CREATE INDEX \"ix_counties_index\"ON \"counties\" ...  \n",
       "2  CREATE TABLE \"tracts\" (\\n\"index\" INTEGER,\\n  \"...  \n",
       "3  CREATE INDEX \"ix_tracts_index\"ON \"tracts\" (\"in...  "
      ]
     },
     "execution_count": 3,
     "metadata": {},
     "output_type": "execute_result"
    }
   ],
   "source": [
    "\n",
    "\n",
    "# conn = connect(':memory:')\n",
    "conn = connect('counties_tracts.db')\n",
    "\n",
    "counties_tracts = pd.read_sql(\"\"\"SELECT * FROM sqlite_master\"\"\", conn)\n",
    "counties_tracts"
   ]
  },
  {
   "cell_type": "code",
   "execution_count": null,
   "id": "a767dd2a",
   "metadata": {
    "scrolled": true
   },
   "outputs": [],
   "source": [
    "counties = pd.read_sql(\"\"\"SELECT * FROM counties\"\"\", conn)\n",
    "counties.head()"
   ]
  },
  {
   "cell_type": "code",
   "execution_count": null,
   "id": "149abd3d",
   "metadata": {},
   "outputs": [],
   "source": [
    "tracts = pd.read_sql(\"\"\"SELECT * FROM tracts\"\"\", conn)\n",
    "tracts.head()"
   ]
  },
  {
   "cell_type": "code",
   "execution_count": null,
   "id": "8cb7bebc",
   "metadata": {},
   "outputs": [],
   "source": [
    "locations_arealand = locations.merge(counties, how=\"left\", on=\"NAME\")\n",
    "# locations_arealand = locations.merge(counties[['NAME','AREALAND']], how=\"left\", on=\"NAME\")\n",
    "locations_arealand.head()"
   ]
  },
  {
   "cell_type": "code",
   "execution_count": null,
   "id": "1d8b247d",
   "metadata": {},
   "outputs": [],
   "source": [
    "#q2\n",
    "locations_arealand.plot(column=\"POP100\",legend =True, cmap=\"viridis\")"
   ]
  },
  {
   "cell_type": "code",
   "execution_count": 4,
   "id": "cccd765b",
   "metadata": {},
   "outputs": [
    {
     "ename": "NameError",
     "evalue": "name 'locations_arealand' is not defined",
     "output_type": "error",
     "traceback": [
      "\u001b[0;31m---------------------------------------------------------------------------\u001b[0m",
      "\u001b[0;31mNameError\u001b[0m                                 Traceback (most recent call last)",
      "Input \u001b[0;32mIn [4]\u001b[0m, in \u001b[0;36m<module>\u001b[0;34m\u001b[0m\n\u001b[1;32m      3\u001b[0m \u001b[38;5;28;01mfrom\u001b[39;00m \u001b[38;5;21;01msklearn\u001b[39;00m\u001b[38;5;21;01m.\u001b[39;00m\u001b[38;5;21;01mlinear_model\u001b[39;00m \u001b[38;5;28;01mimport\u001b[39;00m LinearRegression\n\u001b[1;32m      4\u001b[0m \u001b[38;5;28;01mimport\u001b[39;00m \u001b[38;5;21;01mnumpy\u001b[39;00m \u001b[38;5;28;01mas\u001b[39;00m \u001b[38;5;21;01mnp\u001b[39;00m\n\u001b[0;32m----> 7\u001b[0m train, test \u001b[38;5;241m=\u001b[39m train_test_split(\u001b[43mlocations_arealand\u001b[49m, test_size\u001b[38;5;241m=\u001b[39m\u001b[38;5;241m0.25\u001b[39m, random_state\u001b[38;5;241m=\u001b[39m\u001b[38;5;241m320\u001b[39m)\n",
      "\u001b[0;31mNameError\u001b[0m: name 'locations_arealand' is not defined"
     ]
    }
   ],
   "source": [
    "\n",
    "\n",
    "\n",
    "train, test = train_test_split(locations_arealand, test_size=0.25, random_state=320)"
   ]
  },
  {
   "cell_type": "code",
   "execution_count": null,
   "id": "d4034466",
   "metadata": {},
   "outputs": [],
   "source": [
    "train.head()"
   ]
  },
  {
   "cell_type": "code",
   "execution_count": null,
   "id": "1962aa23",
   "metadata": {},
   "outputs": [],
   "source": [
    "#q3\n",
    "list(test['NAME'])"
   ]
  },
  {
   "cell_type": "code",
   "execution_count": null,
   "id": "423520b9",
   "metadata": {},
   "outputs": [],
   "source": [
    "#q4\n",
    "lr = LinearRegression()\n",
    "lr.fit(train[[\"AREALAND\"]], train[\"POP100\"])\n",
    "lr.score(test[[\"AREALAND\"]], test[\"POP100\"])"
   ]
  },
  {
   "cell_type": "code",
   "execution_count": null,
   "id": "dda02b69",
   "metadata": {},
   "outputs": [],
   "source": [
    "#q5\n",
    "lr.predict([[1e6 * 500 * 2.59]])"
   ]
  },
  {
   "cell_type": "code",
   "execution_count": null,
   "id": "1ff7e4b6",
   "metadata": {
    "scrolled": true
   },
   "outputs": [],
   "source": [
    "#q5\n",
    "temporary = pd.DataFrame([1e6 * 500 * 2.59])\n",
    "lr.predict(temporary)[0]"
   ]
  },
  {
   "cell_type": "code",
   "execution_count": null,
   "id": "58caf732",
   "metadata": {},
   "outputs": [],
   "source": [
    "grouped = tracts.groupby('COUNTY').sum().reset_index()\n",
    "# grouped\n",
    "grouped_formatted= grouped[['COUNTY', 'HU100']]\n",
    "grouped_formatted = grouped_formatted.rename(columns={\"HU100\": \"HUsummed\"})\n",
    "grouped_formatted"
   ]
  },
  {
   "cell_type": "code",
   "execution_count": null,
   "id": "d1294429",
   "metadata": {},
   "outputs": [],
   "source": [
    "locations_arealand_HU100  = locations_arealand.merge(grouped_formatted, how=\"left\", on=\"COUNTY\")\n",
    "locations_arealand_HU100"
   ]
  },
  {
   "cell_type": "code",
   "execution_count": null,
   "id": "6269756a",
   "metadata": {},
   "outputs": [],
   "source": [
    "train_hu, test_hu = train_test_split(locations_arealand_HU100, test_size=0.25, random_state=320)"
   ]
  },
  {
   "cell_type": "code",
   "execution_count": null,
   "id": "5f41de67",
   "metadata": {
    "scrolled": false
   },
   "outputs": [],
   "source": [
    "list(test_hu['NAME'].unique())\n"
   ]
  },
  {
   "cell_type": "code",
   "execution_count": null,
   "id": "e6cab7d1",
   "metadata": {},
   "outputs": [],
   "source": [
    "#q7\n",
    "dict(zip(train_hu.NAME, train_hu.HUsummed))"
   ]
  },
  {
   "cell_type": "code",
   "execution_count": null,
   "id": "96bd8e5a",
   "metadata": {},
   "outputs": [],
   "source": [
    "#q8\n",
    "lr_hu = LinearRegression()\n",
    "arr = cross_val_score(lr_hu, train_hu[[\"HUsummed\"]],train_hu[[\"POP100\"]],cv=5)\n",
    "np.average(arr)"
   ]
  },
  {
   "cell_type": "code",
   "execution_count": null,
   "id": "fc4a4ff4",
   "metadata": {},
   "outputs": [],
   "source": [
    "#q9\n",
    "np.std(arr)"
   ]
  },
  {
   "cell_type": "code",
   "execution_count": null,
   "id": "c172bea3",
   "metadata": {},
   "outputs": [],
   "source": [
    "#q10\n",
    "\"POP100 = 2.39*HU100 + -7910.46\""
   ]
  },
  {
   "cell_type": "code",
   "execution_count": null,
   "id": "8af29716",
   "metadata": {},
   "outputs": [],
   "source": [
    "lr_hu.fit(train_hu[[\"HUsummed\"]],train_hu[[\"POP100\"]])\n",
    "coef = lr_hu.coef_[0]\n",
    "intercept = lr_hu.intercept_"
   ]
  },
  {
   "cell_type": "code",
   "execution_count": null,
   "id": "c11429b7",
   "metadata": {},
   "outputs": [],
   "source": [
    "locations_arealand_HU100[['HUsummed', 'POP100']]"
   ]
  },
  {
   "cell_type": "code",
   "execution_count": null,
   "id": "e6140d16",
   "metadata": {},
   "outputs": [],
   "source": [
    "dane = locations_arealand_HU100.loc[locations_arealand_HU100['NAME']=='Dane County']\n",
    "dane[['HUsummed','POP100']]\n"
   ]
  },
  {
   "cell_type": "code",
   "execution_count": null,
   "id": "a8dbfc7f",
   "metadata": {},
   "outputs": [],
   "source": [
    "dane = locations_arealand_HU100.loc[locations_arealand_HU100['NAME']=='Dane County']\n",
    "\n",
    "fig = plt.figure(figsize=(10,6))\n",
    "ax = fig.add_subplot()\n",
    "\n",
    "ax.scatter(locations_arealand_HU100['HUsummed'],locations_arealand_HU100['POP100'],label='Actual' )\n",
    "ax.plot(locations_arealand_HU100['HUsummed'],locations_arealand_HU100['HUsummed']* coef+intercept,'red', label='predicted')\n",
    "ax.legend()\n",
    "ax.text(dane['HUsummed'],dane['POP100'], 'Dane',ha='left')\n",
    "ax.set_xlabel(\"HU100\")\n",
    "ax.set_ylabel(\"POP100\")\n"
   ]
  },
  {
   "cell_type": "code",
   "execution_count": null,
   "id": "be209ab3",
   "metadata": {},
   "outputs": [],
   "source": [
    "A = np.array([\n",
    "    [0,0,5,8,4],\n",
    "    [1,2,4,0,3],\n",
    "    [2,4,0,9,2],\n",
    "    [3,5,2,1,1],\n",
    "    [0,5,0,1,0]\n",
    "])\n"
   ]
  },
  {
   "cell_type": "code",
   "execution_count": null,
   "id": "9ab738cd",
   "metadata": {},
   "outputs": [],
   "source": [
    "A[np.where(A>= 2 & A<=5 )]"
   ]
  },
  {
   "cell_type": "code",
   "execution_count": null,
   "id": "9d940018",
   "metadata": {},
   "outputs": [],
   "source": [
    "len(A[np.where(np.logical_and(A>=2, A<=5))])\n"
   ]
  },
  {
   "cell_type": "code",
   "execution_count": null,
   "id": "4d99e6f7",
   "metadata": {},
   "outputs": [],
   "source": [
    "counties"
   ]
  },
  {
   "cell_type": "code",
   "execution_count": null,
   "id": "3bcf4064",
   "metadata": {},
   "outputs": [],
   "source": [
    "milwaukee = locations_arealand_HU100.loc[locations_arealand_HU100['NAME']=='Milwaukee County']\n",
    "milwaukee"
   ]
  },
  {
   "cell_type": "code",
   "execution_count": 3,
   "id": "d846d8b8",
   "metadata": {},
   "outputs": [
    {
     "data": {
      "text/plain": [
       "<AxesSubplot:>"
      ]
     },
     "execution_count": 3,
     "metadata": {},
     "output_type": "execute_result"
    },
    {
     "data": {
      "image/png": "[encoded data removed]",
      "text/plain": [
       "<Figure size 432x288 with 1 Axes>"
      ]
     },
     "metadata": {
      "needs_background": "light"
     },
     "output_type": "display_data"
    }
   ],
   "source": [
    "url = \"counties.geojson\"\n",
    "dane = gpd.read_file(url)\n",
    "dane.plot()\n"
   ]
  },
  {
   "cell_type": "code",
   "execution_count": 6,
   "id": "3bd9b5d3",
   "metadata": {},
   "outputs": [],
   "source": [
    "import rasterio\n",
    "import rasterio.features\n",
    "import rasterio.warp\n",
    "from matplotlib.colors import ListedColormap\n",
    "from rasterio.mask import mask\n",
    "\n",
    "c = np.zeros((256,3))\n",
    "c[0] = [0.00000000000, 0.00000000000, 0.00000000000]\n",
    "c[11] = [0.27843137255, 0.41960784314, 0.62745098039]\n",
    "c[12] = [0.81960784314, 0.86666666667, 0.97647058824]\n",
    "c[21] = [0.86666666667, 0.78823529412, 0.78823529412]\n",
    "c[22] = [0.84705882353, 0.57647058824, 0.50980392157]\n",
    "c[23] = [0.92941176471, 0.00000000000, 0.00000000000]\n",
    "c[24] = [0.66666666667, 0.00000000000, 0.00000000000]\n",
    "c[31] = [0.69803921569, 0.67843137255, 0.63921568628]\n",
    "c[41] = [0.40784313726, 0.66666666667, 0.38823529412]\n",
    "c[42] = [0.10980392157, 0.38823529412, 0.18823529412]\n",
    "c[43] = [0.70980392157, 0.78823529412, 0.55686274510]\n",
    "c[51] = [0.64705882353, 0.54901960784, 0.18823529412]\n",
    "c[52] = [0.80000000000, 0.72941176471, 0.48627450980]\n",
    "c[71] = [0.88627450980, 0.88627450980, 0.75686274510]\n",
    "c[72] = [0.78823529412, 0.78823529412, 0.46666666667]\n",
    "c[73] = [0.60000000000, 0.75686274510, 0.27843137255]\n",
    "c[74] = [0.46666666667, 0.67843137255, 0.57647058824]\n",
    "c[81] = [0.85882352941, 0.84705882353, 0.23921568628]\n",
    "c[82] = [0.66666666667, 0.43921568628, 0.15686274510]\n",
    "c[90] = [0.72941176471, 0.84705882353, 0.91764705882]\n",
    "c[95] = [0.43921568628, 0.63921568628, 0.72941176471]\n",
    "custom_cmap = ListedColormap(c)"
   ]
  },
  {
   "cell_type": "code",
   "execution_count": 5,
   "id": "ca1c99ea",
   "metadata": {},
   "outputs": [],
   "source": [
    "land_use = {\"open_water\": 11,\n",
    "            \"ice_snow\": 12,\n",
    "            \"developed_open\": 21,\n",
    "            \"developed_low\": 22,\n",
    "            \"developed_med\": 23,\n",
    "            \"developed_high\": 24,\n",
    "            \"barren\": 31,\n",
    "            \"deciduous\": 41,\n",
    "            \"evergreen\": 42,\n",
    "            \"mixed_forest\": 43,\n",
    "            \"dwarf_scrub\": 51,\n",
    "            \"shrub_scrub\": 52,\n",
    "            \"grassland\": 71,\n",
    "            \"sedge\": 72,\n",
    "            \"lichens\": 73,\n",
    "            \"moss\": 74,\n",
    "            \"pasture\": 81,\n",
    "            \"crops\": 82,\n",
    "            \"woody_wetlands\": 90,\n",
    "            \"herbacious_wetlands\": 95}\n"
   ]
  },
  {
   "cell_type": "code",
   "execution_count": 80,
   "id": "0e9cf772",
   "metadata": {},
   "outputs": [
    {
     "data": {
      "text/html": [
       "<div>\n",
       "<style scoped>\n",
       "    .dataframe tbody tr th:only-of-type {\n",
       "        vertical-align: middle;\n",
       "    }\n",
       "\n",
       "    .dataframe tbody tr th {\n",
       "        vertical-align: top;\n",
       "    }\n",
       "\n",
       "    .dataframe thead th {\n",
       "        text-align: right;\n",
       "    }\n",
       "</style>\n",
       "<table border=\"1\" class=\"dataframe\">\n",
       "  <thead>\n",
       "    <tr style=\"text-align: right;\">\n",
       "      <th></th>\n",
       "      <th>NAME</th>\n",
       "      <th>POP100</th>\n",
       "      <th>geometry</th>\n",
       "    </tr>\n",
       "  </thead>\n",
       "  <tbody>\n",
       "    <tr>\n",
       "      <th>15</th>\n",
       "      <td>Milwaukee County</td>\n",
       "      <td>947735</td>\n",
       "      <td>POLYGON ((-87.82631 42.84223, -87.82418 42.842...</td>\n",
       "    </tr>\n",
       "  </tbody>\n",
       "</table>\n",
       "</div>"
      ],
      "text/plain": [
       "                NAME  POP100  \\\n",
       "15  Milwaukee County  947735   \n",
       "\n",
       "                                             geometry  \n",
       "15  POLYGON ((-87.82631 42.84223, -87.82418 42.842...  "
      ]
     },
     "execution_count": 80,
     "metadata": {},
     "output_type": "execute_result"
    }
   ],
   "source": [
    "land = rasterio.open(\"zip://./land.zip!wi.tif\")  #매디슨 wi 전 지역 가져오기\n",
    "\n",
    "# 밀워키 polygon 가져오기\n",
    "counties = gpd.read_file('counties.geojson')\n",
    "milwaukee = counties.loc[counties['NAME'] == 'Milwaukee County']\n",
    "milwaukee"
   ]
  },
  {
   "cell_type": "code",
   "execution_count": 82,
   "id": "4f97d89f",
   "metadata": {},
   "outputs": [
    {
     "data": {
      "text/html": [
       "<div>\n",
       "<style scoped>\n",
       "    .dataframe tbody tr th:only-of-type {\n",
       "        vertical-align: middle;\n",
       "    }\n",
       "\n",
       "    .dataframe tbody tr th {\n",
       "        vertical-align: top;\n",
       "    }\n",
       "\n",
       "    .dataframe thead th {\n",
       "        text-align: right;\n",
       "    }\n",
       "</style>\n",
       "<table border=\"1\" class=\"dataframe\">\n",
       "  <thead>\n",
       "    <tr style=\"text-align: right;\">\n",
       "      <th></th>\n",
       "      <th>NAME</th>\n",
       "      <th>POP100</th>\n",
       "      <th>geometry</th>\n",
       "    </tr>\n",
       "  </thead>\n",
       "  <tbody>\n",
       "    <tr>\n",
       "      <th>0</th>\n",
       "      <td>Racine County</td>\n",
       "      <td>195408</td>\n",
       "      <td>POLYGON ((-88.07073 42.66976, -88.06897 42.669...</td>\n",
       "    </tr>\n",
       "  </tbody>\n",
       "</table>\n",
       "</div>"
      ],
      "text/plain": [
       "            NAME  POP100                                           geometry\n",
       "0  Racine County  195408  POLYGON ((-88.07073 42.66976, -88.06897 42.669..."
      ]
     },
     "execution_count": 82,
     "metadata": {},
     "output_type": "execute_result"
    }
   ],
   "source": [
    "gpd.GeoDataFrame({'NAME': i[1][0],'POP100':i[1][1],'geometry': [i[1][2]]})"
   ]
  },
  {
   "cell_type": "code",
   "execution_count": null,
   "id": "24fd7919",
   "metadata": {},
   "outputs": [],
   "source": [
    "matrix, _ = mask(land, counties.to_crs(land.crs)[\"geometry\"], crop=True)\n",
    "matrix = matrix[0]\n",
    "\n",
    "fig, ax = plt.subplots(figsize=(12,12))\n",
    "ax.imshow(matrix, vmin=0, vmax=255,cmap=custom_cmap)"
   ]
  },
  {
   "cell_type": "code",
   "execution_count": 87,
   "id": "4a868ec6",
   "metadata": {},
   "outputs": [
    {
     "data": {
      "text/html": [
       "<div>\n",
       "<style scoped>\n",
       "    .dataframe tbody tr th:only-of-type {\n",
       "        vertical-align: middle;\n",
       "    }\n",
       "\n",
       "    .dataframe tbody tr th {\n",
       "        vertical-align: top;\n",
       "    }\n",
       "\n",
       "    .dataframe thead th {\n",
       "        text-align: right;\n",
       "    }\n",
       "</style>\n",
       "<table border=\"1\" class=\"dataframe\">\n",
       "  <thead>\n",
       "    <tr style=\"text-align: right;\">\n",
       "      <th></th>\n",
       "      <th>NAME</th>\n",
       "      <th>POP100</th>\n",
       "      <th>geometry</th>\n",
       "    </tr>\n",
       "  </thead>\n",
       "  <tbody>\n",
       "    <tr>\n",
       "      <th>0</th>\n",
       "      <td>Racine County</td>\n",
       "      <td>195408</td>\n",
       "      <td>POLYGON ((-88.07073 42.66976, -88.06897 42.669...</td>\n",
       "    </tr>\n",
       "    <tr>\n",
       "      <th>1</th>\n",
       "      <td>Clark County</td>\n",
       "      <td>34690</td>\n",
       "      <td>POLYGON ((-90.55875 44.42221, -90.53398 44.422...</td>\n",
       "    </tr>\n",
       "    <tr>\n",
       "      <th>2</th>\n",
       "      <td>Wood County</td>\n",
       "      <td>74749</td>\n",
       "      <td>POLYGON ((-89.72464 44.33712, -89.72460 44.338...</td>\n",
       "    </tr>\n",
       "    <tr>\n",
       "      <th>3</th>\n",
       "      <td>Rusk County</td>\n",
       "      <td>14755</td>\n",
       "      <td>POLYGON ((-90.92517 45.37935, -90.92515 45.379...</td>\n",
       "    </tr>\n",
       "    <tr>\n",
       "      <th>4</th>\n",
       "      <td>Ozaukee County</td>\n",
       "      <td>86395</td>\n",
       "      <td>POLYGON ((-87.89269 43.19202, -87.89265 43.192...</td>\n",
       "    </tr>\n",
       "  </tbody>\n",
       "</table>\n",
       "</div>"
      ],
      "text/plain": [
       "             NAME  POP100                                           geometry\n",
       "0   Racine County  195408  POLYGON ((-88.07073 42.66976, -88.06897 42.669...\n",
       "1    Clark County   34690  POLYGON ((-90.55875 44.42221, -90.53398 44.422...\n",
       "2     Wood County   74749  POLYGON ((-89.72464 44.33712, -89.72460 44.338...\n",
       "3     Rusk County   14755  POLYGON ((-90.92517 45.37935, -90.92515 45.379...\n",
       "4  Ozaukee County   86395  POLYGON ((-87.89269 43.19202, -87.89265 43.192..."
      ]
     },
     "execution_count": 87,
     "metadata": {},
     "output_type": "execute_result"
    }
   ],
   "source": [
    "counties.head()"
   ]
  },
  {
   "cell_type": "code",
   "execution_count": 107,
   "id": "e0cc55ca",
   "metadata": {},
   "outputs": [
    {
     "name": "stdout",
     "output_type": "stream",
     "text": [
      "15    POLYGON ((663501.505 2233626.676, 663673.242 2...\n",
      "Name: geometry, dtype: geometry\n"
     ]
    }
   ],
   "source": [
    "#q13\n",
    "land = rasterio.open(\"zip://./land.zip!wi.tif\")  #매디슨 wi 전 지역 가져오기\n",
    "\n",
    "# 밀워키 polygon 가져오기\n",
    "counties = gpd.read_file('counties.geojson')\n",
    "milwaukee = counties.loc[counties['NAME'] == 'Milwaukee County']\n",
    "# milwaukee.plot()\n",
    "# print(milwaukee)\n",
    "\n",
    "#rarsterio에 gpd 입력\n",
    "from rasterio.mask import mask\n",
    "print(milwaukee.to_crs(land.crs)[\"geometry\"])\n",
    "\n",
    "# matrix, _ = mask(land, milwaukee.to_crs(land.crs)[\"geometry\"], crop=True)\n",
    "# matrix = matrix[0]\n",
    "\n",
    "# fig, ax = plt.subplots(figsize=(12,12))\n",
    "# ax.imshow(matrix, vmin=0, vmax=255,cmap=custom_cmap)\n"
   ]
  },
  {
   "cell_type": "code",
   "execution_count": 113,
   "id": "839ae399",
   "metadata": {
    "scrolled": true
   },
   "outputs": [
    {
     "name": "stdout",
     "output_type": "stream",
     "text": [
      "<class 'pandas.core.series.Series'>\n",
      "POLYGON ((-88.07072500005006 42.66975600007914, -88.06897000010702 42.66975600007914, -88.06370799975267 42.66975600007914, -88.06195500035778 42.66975700008596, -88.06142200025532 42.66975700008596, -88.05405000013072 42.66975700008596, -88.05318300011739 42.66975700008596, -88.0516080000994 42.66975700008596, -88.04178600044591 42.669721999837606, -88.03686999969797 42.669687000230056, -88.03293800003753 42.66965799999306, -88.03274100039403 42.669655999976214, -88.03214999966693 42.66965199994234, -88.03195300002344 42.66965099993383, -88.03155999966305 42.66964899991671, -88.03038100037851 42.66964299986511, -88.02998899984303 42.66964199985646, -88.02698600012019 42.669628999742486, -88.02603500044127 42.669623999697926, -88.02318400015608 42.6696110002407, -88.02223400030209 42.66960700020387, -88.02212399979891 42.66960600019463, -88.01740899979075 42.66954000021007, -88.01511499989746 42.66954200023065, -88.01285500033936 42.6695470002818, -88.01264899957673 42.66954800029199, -88.01182400029452 42.669551999672045, -88.002720999618 42.66954000021007, -88.00231399991223 42.66954100022037, -87.99290900001026 42.669536000168726, -87.99263399965064 42.669536000168726, -87.99260199986358 42.66953500015835, -87.99160900035189 42.66953700017908, -87.98289700038595 42.669543000240914, -87.97895099958349 42.669545000261394, -87.97806500020191 42.66954600027161, -87.97776100042829 42.66954600027161, -87.97419100026778 42.66954800029199, -87.97300100021428 42.66955000031231, -87.96908399972413 42.669552999682146, -87.95958799958555 42.669561999772405, -87.95830899984358 42.66956299978234, -87.95733600042338 42.66956299978234, -87.95341999975814 42.669566999821946, -87.95328400021403 42.66956599981207, -87.95306800030396 42.66956399979227, -87.9529179996178 42.669560999762446, -87.95273699986785 42.66955899974247, -87.95240399978191 42.669556999722396, -87.95201200014475 42.669551999672045, -87.95083600033495 42.66954000021007, -87.95065100038703 42.66953900019976, -87.95044399979948 42.66953700017908, -87.94986999968911 42.66953100011669, -87.94815099973111 42.66951299992595, -87.94757800034397 42.66950699986123, -87.94746100016809 42.669503999828656, -87.94567600008784 42.669487000301835, -87.94396600035066 42.66947100012121, -87.94242899996753 42.66945599994819, -87.93407900039985 42.669379000323964, -87.9303529997054 42.66934499987625, -87.9291209998191 42.66933299971375, -87.9254250001602 42.66929899990136, -87.9254109999165 42.66929899990136, -87.92419400009882 42.66928499970124, -87.92247799961554 42.66926500007041, -87.91838899959626 42.66921900003631, -87.91733199961214 42.669205999833856, -87.91561699985209 42.6691870001936, -87.91536900015497 42.669183000129486, -87.91462799964003 42.66917399998441, -87.91438099976783 42.66917099993576, -87.91264300044156 42.669149000235095, -87.9074299995927 42.66908499980052, -87.90569300009133 42.66906400008738, -87.90564500041076 42.669063000069414, -87.90550300012053 42.66906200005137, -87.90545600026486 42.66906200005137, -87.90542899960238 42.66906100003337, -87.90534800030984 42.66906000001535, -87.90532099964734 42.66906000001535, -87.90514599974516 42.6690569999612, -87.90462199986352 42.66904999983428, -87.90444899961116 42.66904899981609, -87.90268299979748 42.66903000012784, -87.89738799983115 42.66897599976532, -87.89562299984239 42.6689590000941, -87.89489200027151 42.66894899989678, -87.89292300006825 42.6689230000367, -87.88701800000656 42.66884499973072, -87.88504999962821 42.668819999849035, -87.88502399968894 42.66881899982714, -87.88494900024418 42.66881899982714, -87.88492400012983 42.66881899982714, -87.88488999979464 42.66881799980523, -87.88478900041063 42.668816999783296, -87.88475599990034 42.668816999783296, -87.88474000000681 42.66881599976136, -87.88469200032624 42.668814999739396, -87.8846760004327 42.668814999739396, -87.88445100030182 42.66881100031192, -87.8837759999091 42.66879900004637, -87.88355099977822 42.66879599997963, -87.87677100020562 42.66867899990539, -87.87644800016542 42.6686739997844, -87.87610199966072 42.66866800029923, -87.87593000013158 42.66866600025053, -87.87510999997394 42.66865399995699, -87.87262299973679 42.66861799972294, -87.87047500033171 42.66858700025696, -87.86943699971586 42.668572999896426, -87.86938800021036 42.66857199987055, -87.86924099989726 42.66856999981877, -87.8691930002167 42.66856999981877, -87.86840099964812 42.66855900019331, -87.86602800011212 42.668525999984176, -87.86529499999311 42.6685159997172, -87.86523700026679 42.66851400032414, -87.86521200015244 42.668513000297324, -87.86513699980937 42.66851200027048, -87.86511300041825 42.66851200027048, -87.86488400008939 42.66850700013607, -87.86419700000111 42.668491999730364, -87.8639690003955 42.66848700025487, -87.86394500010604 42.66848700025487, -87.86392300036474 42.66848500020034, -87.86389099967937 42.66848400017306, -87.86193499989488 42.668441999673036, -87.86149300002901 42.668434000109244, -87.86038599981619 42.66841000009081, -87.86033200028783 42.66840900006231, -87.8602879999069 42.6684080000338, -87.8601199996774 42.66840399991961, -87.85961800043539 42.668393000264736, -87.85945100003082 42.66839000017839, -87.85922699972483 42.66838500003416, -87.85855600042841 42.66837000025959, -87.85833299994732 42.66836500011371, -87.85794999963268 42.668355999850185, -87.85680099958707 42.66833199980162, -87.85641800017073 42.668324000223684, -87.85623099967466 42.66832000010408, -87.85609000010767 42.66831700001421, -87.85567300035615 42.668306999713614, -87.85548800040822 42.66830300025345, -87.85545400007302 42.66830200022323, -87.85535100014087 42.66830000016271, -87.8553179996306 42.66830000016271, -87.85478600025135 42.66828799979851, -87.8531919999668 42.66825300004405, -87.85266100041247 42.66824199970196, -87.8514529999173 42.66821600020669, -87.84958599982129 42.66817500021839, -87.84892800004535 42.66816099976506, -87.84762699966376 42.66813200013711, -87.84598399987372 42.66809700029481, -87.84568199974994 42.66809000005978, -87.84360600031485 42.66803800027072, -87.84336199991739 42.66803200006357, -87.84168200031742 42.66798999991867, -87.8414139996305 42.66798299967159, -87.83765199984937 42.667889000240365, -87.8358729996169 42.66784499992372, -87.83584199965476 42.66784499992372, -87.8357520001414 42.66784499992372, -87.83572200000415 42.66784499992372, -87.8348869997779 42.667842999848496, -87.83238299982233 42.667838000320806, -87.83154900031928 42.667837000283114, -87.83142700012056 42.667836000245394, -87.82777599976919 42.6678300000188, -87.82611000041292 42.66782699990528, -87.82607899955248 42.66782699990528, -87.82475600032791 42.66782199971576, -87.82452899964886 42.667820999677815, -87.8236840002752 42.667819000262405, -87.82313299973104 42.66781700018639, -87.82220399979344 42.66781400007219, -87.82217000035656 42.66781400007219, -87.82069700044585 42.66780899988163, -87.82045600042143 42.667807999843475, -87.81887499965737 42.66780300031296, -87.81871300017397 42.667802000274705, -87.81727100022538 42.667797000083176, -87.81673599957477 42.66779399996807, -87.8162300001348 42.667792999929674, -87.81522099983125 42.66779600004482, -87.81409900044814 42.667797000083176, -87.81330900042772 42.667798000121515, -87.81073599997686 42.66780399969067, -87.80961500041863 42.66780699980529, -87.80958399955819 42.66780699980529, -87.80949400004482 42.66780699980529, -87.80946399990759 42.667807999843475, -87.80943100029562 42.667807999843475, -87.80933400021125 42.667807999843475, -87.8093020004242 42.667807999843475, -87.80925100037057 42.667807999843475, -87.80920899963948 42.667807999843475, -87.80909999985951 42.667807999843475, -87.80904999963079 42.667807999843475, -87.80810800017274 42.66780699980529, -87.8080839998833 42.66780699980529, -87.80771900001031 42.66781700018639, -87.80618199962716 42.66787499972267, -87.80559800036939 42.66789999998438, -87.80561000006495 42.66803300009813, -87.80562099993561 42.66815700029551, -87.80561799956256 42.66816799999215, -87.80490600025826 42.66835899993817, -87.79996100009632 42.66827700012316, -87.79890599976201 42.66825900022981, -87.79370600023026 42.668260000260716, -87.75007199988238 42.66787999990792, -87.62506800012603 42.6677559998185, -87.50006500019458 42.66749000010267, -87.37506200026314 42.66564900015864, -87.37506200026314 42.666645000056974, -87.25005900033169 42.66509699974071, -87.25005900033169 42.665238999962284, -87.22890500040573 42.664970999877276, -87.20775300012957 42.66470500013427, -87.12505600040026 42.66365900025925, -87.04389899963049 42.66372900029768, -87.05558699955509 42.74471800018184, -87.05635200035948 42.75001799987198, -87.05871599967465 42.76520200003674, -87.05909599961623 42.767934999725604, -87.05951400009099 42.770939999915, -87.064527000025 42.806861000072985, -87.06941899958517 42.842145999895095, -87.09357100010942 42.842145999895095, -87.12979899999752 42.842145999895095, -87.1660269998856 42.842145999895095, -87.19017900040986 42.842146999758576, -87.25060599977955 42.842146999758576, -87.34124700009403 42.84214900014418, -87.43188699968528 42.84215000000762, -87.4923149997782 42.842150999871045, -87.54386699987364 42.842150999871045, -87.69852300015998 42.842153000256516, -87.75007500025542 42.84215400011993, -87.75666099965926 42.84219600029517, -87.77642299986537 42.842322999851625, -87.78300999999244 42.842365999771964, -87.78959799994442 42.84240799980313, -87.80936199980034 42.84253399972523, -87.81594999975232 42.84257700015738, -87.8158979998738 42.842522000120084, -87.81574399988799 42.842358000233254, -87.81569299983435 42.84230399986198, -87.81781500019851 42.842292000212176, -87.81955400024802 42.8422820002827, -87.82126700035825 42.842273000213005, -87.82418300004247 42.84224699985801, -87.82630600023153 42.84222899970712, -87.82641400018655 42.84222699998279, -87.82656200032456 42.84222600012059, -87.82732999970536 42.84222000028843, -87.8275869996233 42.84221799990513, -87.8386109999242 42.8421319998285, -87.84046200012669 42.84211799975875, -87.8405120003554 42.84211699989479, -87.84057799957931 42.84211699989479, -87.84066499961797 42.842121999873136, -87.8407159996716 42.84212500012339, -87.84107999971965 42.84212299973701, -87.84217199986388 42.84212100000924, -87.84253699973686 42.84212100000924, -87.84280500042377 42.842119000281365, -87.84360999961449 42.84211699989479, -87.84387900012632 42.84211699989479, -87.84555200005359 42.842150999871045, -87.85057400020843 42.84225299968756, -87.85224799996058 42.842288000108844, -87.8523540002658 42.84228899997003, -87.85267300010804 42.84229499979554, -87.85278000023817 42.84229700017635, -87.85288599964505 42.8422980000374, -87.85296299963794 42.842298999898425, -87.85306300009539 42.842299999759426, -87.85318100009616 42.84230100027911, -87.85348999989263 42.84230499972291, -87.85438799986808 42.842315000307394, -87.854789999551 42.84232000026966, -87.85480999964248 42.84232000026966, -87.85487199956677 42.84232000026966, -87.85489300038148 42.84232100013034, -87.85507999997922 42.842322999851625, -87.85564099967078 42.84232899967383, -87.85582899999177 42.84233199991403, -87.85584800025832 42.84233199991403, -87.85590599998466 42.84233199991403, -87.85592600007614 42.84233299977451, -87.8566909999822 42.842340999975086, -87.85898599970041 42.84236800015047, -87.8597520003297 42.84237700020633, -87.8603809997933 42.8423839998829, -87.86226799998083 42.842406000084544, -87.86289800016766 42.84241400027572, -87.86312400012349 42.842415999993996, -87.86380399964072 42.84242400018382, -87.86403100031976 42.84242699976078, -87.86410900013757 42.842428000278396, -87.86434299959099 42.842430999855104, -87.86442200013201 42.84243199971399, -87.86447800020852 42.84243199971399, -87.86464700026292 42.842434000090364, -87.86470400016431 42.842434999949184, -87.86483700023372 42.842435999807996, -87.86668300041333 42.842456000274204, -87.8726219999119 42.842522000120084, -87.87460199998583 42.84254400027263, -87.88443299986014 42.84265299974509, -87.88478000018979 42.84265500011431, -87.88496599996262 42.84265699982479, -87.88526499971337 42.84266199975938, -87.88555000011873 42.84266499998341, -87.88558399955559 42.8426659998385, -87.88562100026384 42.8426659998385, -87.88573300041683 42.84266699969357, -87.88577100005165 42.8426680002073, -87.88682999968559 42.84268399986203, -87.89000800020895 42.842732000118716, -87.8910679996678 42.84274900026929, -87.89115800007947 42.84275000012302, -87.89142800041623 42.84275299968415, -87.8915189997545 42.84275500005013, -87.89155100043988 42.84275500005013, -87.89160099977028 42.84275599990377, -87.89165000017407 42.84275599990377, -87.89168299978604 42.84275699975738, -87.8917380000376 42.84275699975738, -87.89182099987829 42.84275900012323, -87.89190299989406 42.8427599999768, -87.89195899997056 42.84276099983035, -87.89233300006437 42.842763000196065, -87.89345799982055 42.84276800012208, -87.89381099999795 42.84277099968234, -87.89383299973926 42.84277099968234, -87.89570300020834 42.842779999679436, -87.90131299981891 42.842809000027216, -87.90318400011289 42.84281800001877, -87.903247999687 42.84281800001877, -87.90334499977138 42.84281800001877, -87.90344100003084 42.84281800001877, -87.90350600032818 42.84281899987143, -87.90359699966645 42.84281899987143, -87.90373499975871 42.84281899987143, -87.90387200002606 42.84281899987143, -87.90396400008757 42.84281899987143, -87.90507100030041 42.84281700016615, -87.90826399999405 42.842813000096804, -87.90839399969039 42.842813000096804, -87.90950199972814 42.84281700016615, -87.90952900039063 42.84281700016615, -87.90960999968317 42.84281700016615, -87.90963700034565 42.84281700016615, -87.9096540000641 42.84281700016615, -87.90970799959244 42.84281700016615, -87.90972600003413 42.84281700016615, -87.90980700022497 42.84281700016615, -87.90989199971547 42.84281700016615, -87.91005300027226 42.84281700016615, -87.91013500028804 42.84281700016615, -87.91015899967915 42.84281700016615, -87.9102320003724 42.84281700016615, -87.91025699958846 42.84281700016615, -87.91027900022807 42.84281700016615, -87.91034700000014 42.84281399994949, -87.91036999956636 42.84281399994949, -87.91111000025637 42.84279199989315, -87.91333200017964 42.84272800004388, -87.9137809997182 42.842715999817734, -87.91407299979625 42.842723000114624, -87.91640900042066 42.84276999982895, -87.92341999997193 42.84291100007469, -87.92368100008784 42.84291699983976, -87.92575599969801 42.842989000268574, -87.92594700039203 42.8429950000261, -87.92652099960407 42.84301399980323, -87.92658099987852 42.84301700001017, -87.92671300012299 42.84301700001017, -87.92766700017495 42.84301700001017, -87.93053099998063 42.84301700001017, -87.9314859998575 42.84301700001017, -87.9315219998425 42.84301700001017, -87.931577999919 42.84301700001017, -87.93163200034567 42.843016000160766, -87.9316690001556 42.843016000160766, -87.93169900029282 42.843016000160766, -87.93174399960036 42.843016000160766, -87.93178899980619 42.843016000160766, -87.93181999976832 42.84301700001017, -87.93205800031802 42.84301700001017, -87.93277499964519 42.84301700001017, -87.93288199977532 42.84301700001017, -87.9330140000198 42.84301899970894, -87.93306599989832 42.84301899970894, -87.93608600023794 42.84310800007068, -87.94255000034136 42.843301000059405, -87.94530199999404 42.843381999950154, -87.94837500003709 42.8434739999737, -87.95073300040278 42.843530000321884, -87.95090099973396 42.84353399968618, -87.95103399980334 42.843535000185874, -87.95117299972053 42.84353699986787, -87.95121899975128 42.84353699986787, -87.9512420002158 42.84353799970884, -87.95139100017873 42.84353799970884, -87.95173699978513 42.8435430002308, -87.95184200026543 42.84354499991254, -87.95190400018973 42.84354599975338, -87.95199200005327 42.843547000252876, -87.95212099992469 42.843547000252876, -87.9524950000185 42.843548999934484, -87.95251099991204 42.843548999934484, -87.95264099960838 42.84354999977531, -87.95275799978424 42.84354999977531, -87.95287300031028 42.843551000274694, -87.95311199978657 42.843551000274694, -87.95322999978734 42.843552000115494, -87.95334000029051 42.843552999956216, -87.95355799985039 42.84355399979694, -87.95454299986449 42.8435579998183, -87.95478300006401 42.84356000015822, -87.95487199975247 42.84356000015822, -87.95496800001193 42.84356000015822, -87.95522900012784 42.8435619998394, -87.95535799999928 42.8435619998394, -87.95612999957804 42.843565999860246, -87.9563520002342 42.8435669997008, -87.95725400040762 42.84357099972132, -87.95908600034353 42.84358000026055, -87.95965200005797 42.84358000026055, -87.96135299957432 42.84358299978134, -87.96192000001197 42.843584000280224, -87.9638359996135 42.84358599996069, -87.96958400021464 42.843593999999015, -87.97150099964107 42.84359700017779, -87.971877000283 42.84359800001779, -87.97566900020138 42.843598999857775, -87.9757210000799 42.843602999876225, -87.97587099986775 42.843598999857775, -87.97593199996709 42.84359999969774, -87.97602900005148 42.843602999876225, -87.97674999957663 42.84360399971617, -87.97716700022646 42.84360399971617, -87.97842199967897 42.84360500021469, -87.97884000015371 42.843606000054606, -87.97932200020256 42.843606000054606, -87.98076999999893 42.8436079997343, -87.98125299987268 42.843609000232796, -87.98137199969838 42.843609000232796, -87.9817320004468 42.843609000232796, -87.98185200009739 42.843609000232796, -87.98240399956813 42.8436079997343, -87.9840620003251 42.843606000054606, -87.98435299967991 42.843606000054606, -87.98461499962073 42.843606000054606, -87.98593799974363 42.84360399971617, -87.98990700011231 42.843598999857775, -87.99123100006011 42.84359800001779, -87.99140299958925 42.84359800001779, -87.993243999746 42.84359700017779, -87.99928500025013 42.843595999679096, -88.00129899976092 42.843595999679096, -88.00321600008564 42.84359499983906, -88.00896999963628 42.84359300015895, -88.01088799978594 42.84359300015895, -88.01103699974884 42.843590999820094, -88.01148399963759 42.84358900013985, -88.01163400032372 42.84358900013985, -88.01541500037143 42.843569999880884, -88.01710699966695 42.84356099999882, -88.02675900033945 42.8435159999103, -88.03054100021208 42.84349800012917, -88.03070199987056 42.843495999787244, -88.03118499974431 42.843494000103874, -88.03134700012602 42.843494000103874, -88.0320779996969 42.84348900023662, -88.03427299985599 42.843478000000246, -88.03500500015008 42.84347499981569, -88.03619799967832 42.84346800026274, -88.03977799988458 42.84344999980896, -88.04097200013605 42.843444000095666, -88.04110799968016 42.843443000253124, -88.04184099979919 42.84343900022431, -88.04445000023503 42.8434249997921, -88.04525899962373 42.843420999762074, -88.04531999972309 42.84341900007633, -88.04538099982244 42.843420999762074, -88.04650800012676 42.843414000203005, -88.05007200043951 42.843394999890215, -88.05022300005224 42.843394999890215, -88.05126099976978 42.84339400004692, -88.05203700044481 42.84339300020362, -88.05436599959988 42.8433909998583, -88.05514300009983 42.8433909998583, -88.05809899996702 42.84338900017153, -88.06006700034537 42.84338800032814, -88.06696699956856 42.84334200026949, -88.06992400015899 42.84332299993456, -88.07304300023277 42.84332100024564, -88.08647400040486 42.84331499986109, -88.08729100018945 42.843314000016505, -88.08787600017047 42.843314000016505, -88.08962299971758 42.843313000171904, -88.0945529998109 42.84330999997935, -88.09474000030697 42.84330999997935, -88.0954819997485 42.84330999997935, -88.09942699982773 42.84330800029, -88.09960699975278 42.84330699978664, -88.10594199998478 42.843289999789604, -88.10610299964326 42.84328899994462, -88.1093439999158 42.84328000002162, -88.11183100015292 42.84327000025206, -88.11237900032401 42.84326799990275, -88.11279699990043 42.843266000212004, -88.11515100006818 42.843257000285696, -88.1157929999506 42.84325400009042, -88.1192850002933 42.843241000120685, -88.12148100027729 42.84323099968614, -88.12362799985748 42.84322099990861, -88.12375799955382 42.84322499995153, -88.12424399980063 42.84324199996645, -88.1249810001176 42.843268999748084, -88.12515099999692 42.84327199994264, -88.12605800019321 42.843264999708005, -88.12634299970024 42.84326300001715, -88.12681600042659 42.843257000285696, -88.12829500018509 42.84320799993194, -88.12911600016763 42.84321100012945, -88.12922900014553 42.84321100012945, -88.13134099956564 42.843180000276895, -88.13163799966655 42.84317899977151, -88.13224399956395 42.84319199975423, -88.132619000381 42.84312400027013, -88.13381299973416 42.84312000022067, -88.13431900007244 42.84311899971426, -88.13741200020698 42.843082999915424, -88.13749599987256 42.84308200006709, -88.1378080000421 42.84307700016649, -88.13853199994028 42.84306599985676, -88.13936700016653 42.843055000203734, -88.14633000003725 42.84299300032657, -88.14807699958436 42.842977000093185, -88.14867099978619 42.842972000184034, -88.15072100018033 42.84295299973532, -88.15254800009336 42.842936000299545, -88.15367200002463 42.84292499996476, -88.15398099982112 42.84292300026295, -88.1549519995915 42.842915000137694, -88.15607399987294 42.842906000160255, -88.15805499977178 42.842889999904344, -88.15879200008875 42.84288400013661, -88.15968599986626 42.84287600000635, -88.16102900008063 42.842863999808955, -88.1611119999213 42.84286299995708, -88.16340900018763 42.84286299995708, -88.16358800028777 42.84286299995708, -88.1680179998906 42.84292000005141, -88.16853699974936 42.842915000137694, -88.1685669998866 42.842915000137694, -88.16867900003959 42.84291400028664, -88.17536499990086 42.842883000285056, -88.17720400040778 42.84287400030296, -88.1784029997838 42.842867999875004, -88.1785290001805 42.842867999875004, -88.18246500003892 42.84285599967611, -88.18357300007665 42.84285300011998, -88.18672999978529 42.84284400013351, -88.18791599964082 42.84284000006592, -88.18801600009826 42.84284000006592, -88.18809999976384 42.84284000006592, -88.18822199996258 42.84283799970269, -88.19740000008383 42.84271900003915, -88.19788100030777 42.84271300025486, -88.19794999990475 42.84271199974186, -88.1980860003472 42.84270900017879, -88.19827100029511 42.842705000102455, -88.19830700028012 42.842704000247956, -88.2078729998406 42.84248100002454, -88.21260999959007 42.842365999771964, -88.21285200033773 42.842359999953395, -88.21414100012544 42.84227800017867, -88.2161520001615 42.842232999814314, -88.21830200011473 42.842180999718316, -88.22122600019486 42.84211000018797, -88.22274699978615 42.8420720000718, -88.2262409997787 42.841985999792, -88.22883699979577 42.84193000002028, -88.22906699994954 42.84192500002645, -88.22928899970738 42.841919000165056, -88.22930899979889 42.841915000037524, -88.22947000035568 42.841973000214146, -88.22961799959536 42.842033000067, -88.22979000002282 42.84209000026839, -88.22996199955196 42.84215900009523, -88.23031399990445 42.842119000281365, -88.23062199987604 42.84208100017078, -88.23134099975134 42.84208100017078, -88.23177000009673 42.84208100017078, -88.23234300038219 42.84208100017078, -88.23256400031511 42.84208000030623, -88.23279199992075 42.842126999851025, -88.23336699985602 42.84208500028751, -88.23346200029057 42.84207799991839, -88.23355699982682 42.8420720000718, -88.2361319999275 42.84207700005379, -88.23758899994469 42.84207899978297, -88.24328700031714 42.84202999981227, -88.24548499995095 42.84200400001365, -88.24559999957866 42.842003000147855, -88.2456730002719 42.842003000147855, -88.2462359996133 42.84199700029403, -88.24726500000834 42.84198700031676, -88.2475029996597 42.84198499992592, -88.2501139997454 42.84198200032755, -88.25195999992502 42.84198099980271, -88.25271700033348 42.841979999936534, -88.25408099956594 42.841979000070296, -88.25487300013448 42.841978000204094, -88.25638500040328 42.8419769996792, -88.25741200025016 42.84197599981295, -88.26084299959518 42.841993000171556, -88.26233499977248 42.84199999989167, -88.26396000001917 42.84200800013537, -88.26522700006555 42.84201399998817, -88.26688699957403 42.84202499982648, -88.26734799970647 42.842023000095544, -88.26772500017334 42.84202399996103, -88.26789500005266 42.84202399996103, -88.26797299987047 42.84202499982648, -88.26945599982693 42.84202899994689, -88.26965500001855 42.84202899994689, -88.27032600021329 42.84203099967763, -88.27061300026847 42.84203200020166, -88.27071100017776 42.84203200020166, -88.27310200015542 42.842038999917314, -88.27513400010788 42.84204399990197, -88.27725200027406 42.842049999751225, -88.27842300006101 42.84205300000497, -88.27959499967282 42.84205600025859, -88.28602399961615 42.8420720000718, -88.2932579996485 42.84203200020166, -88.30638400022205 42.842095000248925, -88.3063940002678 42.841810999925244, -88.30642400040503 42.84095799980148, -88.3064350002757 42.840675000066845, -88.30644100012347 42.840511999777995, -88.30645899966682 42.840025000079216, -88.30646600023782 42.839862999952146, -88.30647499956035 42.839600999790996, -88.30650100039792 42.83891099978822, -88.30650499969757 42.83881800029833, -88.30651599956822 42.83855700023866, -88.3065270003372 42.838249999837565, -88.30656099977406 42.83732800008067, -88.30657300036795 42.837022000107176, -88.30662000022362 42.835303999770176, -88.3067609997906 42.83015100013711, -88.30680900036948 42.82843399992913, -88.30681400039236 42.82830199971807, -88.30683399958554 42.827061999985126, -88.30690300008084 42.822945999947514, -88.30692700037027 42.821574000093214, -88.306937000416 42.82053299973778, -88.30697300040102 42.816903999823644, -88.30707899980793 42.80605700020123, -88.30711099959497 42.80289500027303, -88.30715800034895 42.79822599990241, -88.30719099996091 42.79782100010663, -88.30719199978583 42.79761500013744, -88.30719900035685 42.79617899995448, -88.30720299965648 42.79577799976212, -88.3072110000524 42.79516600025064, -88.30726200010604 42.79338699996867, -88.30741600009182 42.788049000075794, -88.30746799997034 42.78627099969791, -88.30747299999322 42.785896000250084, -88.30748800006184 42.78477200027614, -88.30749399990962 42.784397999797626, -88.30751099962806 42.78325399982096, -88.3075619996817 42.779821000092774, -88.30758000012334 42.778678000168874, -88.30758000012334 42.77865500013381, -88.30758799962095 42.77860700023382, -88.30759000016909 42.77859300028344, -88.30759900038993 42.77854799971513, -88.30761100008547 42.77848099990724, -88.30757199972743 42.77810199978651, -88.30756400022983 42.77803200009146, -88.3075840003213 42.777158999715475, -88.30765200009337 42.77433100001984, -88.3076749996596 42.77338900020704, -88.30771599966747 42.77121500017579, -88.30775800039858 42.769090999842405, -88.30784000041434 42.76479299997532, -88.30784100023925 42.76469599995644, -88.30786200015565 42.763658000158784, -88.30788300007207 42.762522999993216, -88.30788300007207 42.76250700003982, -88.30788399989696 42.762479000111455, -88.30788399989696 42.762459999987946, -88.30788399989696 42.762444999851596, -88.30788399989696 42.7624350001984, -88.30788399989696 42.762404999910025, -88.30788399989696 42.76239500025036, -88.30788399989696 42.76229399977197, -88.30788399989696 42.7619940001684, -88.30788399989696 42.76191900020543, -88.30788800009492 42.76189500003977, -88.30788999974473 42.76187999976669, -88.30789399994269 42.76185499974311, -88.30789499976761 42.76184400015162, -88.30789999979048 42.76181500008014, -88.30790200033863 42.76180500032521, -88.30791599968401 42.76171099978029, -88.30794499999632 42.761553000296985, -88.30794800036938 42.76153499973755, -88.30794499999632 42.76151799968075, -88.3079430003465 42.76150700002944, -88.30793800032363 42.76147600010226, -88.3079369996004 42.76146600029266, -88.30793199957753 42.761438999743376, -88.30794099979836 42.7605280001586, -88.3079709999356 42.757715000207234, -88.30798000015642 42.756893999677544, -88.30798699982913 42.75677799993642, -88.30805999962405 42.7554869998231, -88.30787700022425 42.75548799976874, -88.30781000027712 42.75548799976874, -88.3077039999719 42.74998800016819, -88.30768999972821 42.74985900022113, -88.30747600036628 42.74832100031812, -88.3074649995973 42.748242000047554, -88.30722799977084 42.73121500030436, -88.30724299983946 42.72500299986586, -88.3072450003876 42.72435399968775, -88.3072460002125 42.72395799992379, -88.30723299979371 42.7232910002448, -88.30715800034895 42.71940599987834, -88.3072179997251 42.71874199973569, -88.3072119998773 42.7181150002508, -88.3072110000524 42.71802899988523, -88.30720799967935 42.71777299984135, -88.30720799967935 42.7176880002171, -88.30720600002952 42.71764199973524, -88.30720299965648 42.717504999963204, -88.30720199983156 42.717459999904655, -88.30719900035685 42.71733700032612, -88.307190000136 42.71696900003453, -88.30718699976296 42.716847000051665, -88.30710700029532 42.71664399973785, -88.30686700009582 42.71603500009213, -88.30678699972988 42.71583299968735, -88.30678599990496 42.715818000147294, -88.30678300043023 42.71577500003773, -88.30677800040735 42.7157090002567, -88.3067399998742 42.71527200016573, -88.30675599976774 42.71428499978713, -88.30675800031587 42.71422100030397, -88.3067399998742 42.71376900026006, -88.30684799982924 42.71240800027602, -88.3068520000272 42.71216399995856, -88.30685899969991 42.70994999978235, -88.30687100029378 42.703857000012206, -88.30687499959342 42.701826000102095, -88.30686399972276 42.70100100019683, -88.30683199993571 42.69853000022315, -88.30682199988998 42.69770600031395, -88.30681199984423 42.69699200020525, -88.30678400025513 42.69485200000507, -88.3067750000343 42.69413899970801, -88.30677000001144 42.69380599977442, -88.30676900018653 42.693737000219194, -88.30676800036161 42.69367100011355, -88.30675400011792 42.692534999887165, -88.30674999991996 42.692134000226844, -88.30674900009504 42.69210699985537, -88.30674900009504 42.69202599999102, -88.30674900009504 42.691999999881766, -88.30674800027013 42.69197700002996, -88.30674700044521 42.69190799976322, -88.30674700044521 42.691886000188354, -88.30672800017865 42.69154300019647, -88.30667399975198 42.69051699975892, -88.30666799990419 42.69039400027159, -88.30666700007927 42.690366999803985, -88.30665600020862 42.6901749998085, -88.30664299978984 42.689939000018846, -88.30649100035218 42.68707500007741, -88.30634099966603 42.68420999972084, -88.30633599964317 42.68411400018692, -88.3063299997954 42.68401799984425, -88.30631800009982 42.683948999980984, -88.30630399985611 42.68388000004107, -88.30624699995471 42.683366000278156, -88.30624199993184 42.68323200016793, -88.30624199993184 42.68180100025073, -88.30616099974098 42.67909299983836, -88.30604500028835 42.67668599988336, -88.30603199986956 42.6759840000516, -88.3059930004098 42.67400699998524, -88.3059930004098 42.673934999753016, -88.30599099986166 42.672345000167766, -88.30599000003677 42.67227000009238, -88.30597400014322 42.67170300005519, -88.30597099977018 42.671605999713556, -88.30586100016532 42.67141399985748, -88.30573999979151 42.67129200017737, -88.30546799980495 42.67112500029742, -88.30563000018665 42.670788999871455, -88.30576300025604 42.670377999894136, -88.3058379997008 42.66989200019873, -88.3058949996022 42.66899000003509, -88.30588799992951 42.66874000002802, -88.30589100030257 42.66805500019382, -88.30589100030257 42.667927000308616, -88.3058949996022 42.66743999989984, -88.30589600032543 42.66734100007983, -88.30589600032543 42.66712899994153, -88.30589700015034 42.66688600008704, -88.30589999962507 42.666598000008, -88.30591200021895 42.66504899975996, -88.30609899981671 42.66262500009888, -88.30628999961242 42.660158000080905, -88.30630399985611 42.65997600019745, -88.30632499977251 42.659702999703754, -88.30633399999334 42.65958999971245, -88.30633200034353 42.65942099975733, -88.3063170002749 42.658271000147366, -88.30627299989398 42.65482399997317, -88.3062600003735 42.65375200009442, -88.30625799982536 42.65367500017887, -88.30625100015267 42.653124000094614, -88.30623100006117 42.651471000283564, -88.3062250002134 42.65092100014335, -88.30622100001544 42.65060200026491, -88.30620900031987 42.64967100005693, -88.30616400011402 42.64592200011591, -88.30614900004542 42.64467299975645, -88.30614599967235 42.644457999717936, -88.30613800017477 42.643815999720324, -88.30613599962662 42.64360199979069, -88.30613300015189 42.643370999726024, -88.30612399993106 42.64267699989051, -88.3060910003191 42.63990300010262, -88.30608000044845 42.63897899989784, -88.30606899967947 42.63808299977217, -88.30603600006752 42.63539599986548, -88.30602600002177 42.63450100027057, -88.30601900034907 42.63406499968361, -88.30600099990743 42.63275800002433, -88.30599500005962 42.63232299973149, -88.30597400014322 42.63086099983268, -88.30591100039403 42.6264779997709, -88.30589100030257 42.62501700012974, -88.3059089998459 42.62501700012974, -88.30596300027258 42.62501700012974, -88.30598099981593 42.62501700012974, -88.30598400018897 42.62486100031906, -88.30599400023472 42.62439500001419, -88.30599800043268 42.62424000004469, -88.30596099972445 42.62161599968708, -88.30596099972445 42.62160199998914, -88.30598599983881 42.61836100007251, -88.30591200021895 42.61801000010368, -88.30590499964795 42.6158729997688, -88.30589999962507 42.61373600014135, -88.30590800002099 42.613533000009085, -88.3059149996937 42.61333199972116, -88.30591600041691 42.61328299986511, -88.30590399982303 42.61207500020871, -88.30589100030257 42.610817000156224, -88.30582799965505 42.610817000156224, -88.30564199988221 42.610817000156224, -88.30557999995793 42.61081799978851, -88.30545299973633 42.61081799978851, -88.30521699973477 42.6108199997141, -88.30507399961964 42.6108199997141, -88.30494800012126 42.61082100000749, -88.30446100004954 42.610822000300814, -88.30300099965929 42.61082899970915, -88.3025150003108 42.6108319999276, -88.30247799960257 42.6108319999276, -88.29587399975706 42.61086200012069, -88.295072999866 42.61087199974105, -88.29263900023062 42.61091900024939, -88.28778500030528 42.61101200020817, -88.28623600022658 42.61101999988535, -88.27639799978122 42.61104999998785, -88.26977700021729 42.61105500011374, -88.26919999973389 42.61105500011374, -88.26746900008031 42.611055999742156, -88.26689300032012 42.611057000031714, -88.26682200017501 42.611057000031714, -88.26661200011273 42.611057000031714, -88.26654199979255 42.61105800032129, -88.266525999899 42.611057000031714, -88.26647900004335 42.611057000031714, -88.26646399997473 42.611057000031714, -88.26452999993157 42.611057000031714, -88.26166600012589 42.611057000031714, -88.25873100017509 42.61105500011374, -88.25679899978175 42.61105500011374, -88.25008199995834 42.611053000195646, -88.24926699982355 42.61105199990603, -88.24705499994604 42.61105199990603, -88.24682499979227 42.611053000195646, -88.24601200020564 42.611057000031714, -88.24344600032579 42.61106999982779, -88.23726099988164 42.61110199982278, -88.23574799978793 42.61111200006576, -88.23318299973299 42.611128999681796, -88.2323650001235 42.61113500008964, -88.23217099995473 42.61113599971683, -88.22998199964343 42.61115100007252, -88.2298450002744 42.6111519996994, -88.22747500021313 42.61116700005124, -88.22603200043964 42.611177000283824, -88.22568500011 42.61117900019788, -88.22541099957532 42.61118100011193, -88.22512400041845 42.6111830000259, -88.22251900018054 42.611198999996404, -88.22245499970812 42.611198999996404, -88.22111099966882 42.611207000310706, -88.21708199992402 42.61123099992517, -88.21573899970963 42.61123999986083, -88.21570400044784 42.61123999986083, -88.21562400008189 42.61124100014743, -88.21559899996753 42.61124100014743, -88.21556499963235 42.61124100014743, -88.21553200002037 42.61124199977287, -88.21551399957873 42.61124199977287, -88.215362999966 42.61124199977287, -88.21531299973728 42.61124300005948, -88.21380200019172 42.611251999993414, -88.20927200013148 42.611278999787395, -88.20776200041084 42.611289000001946, -88.18817299955877 42.61145599991014, -88.18820699989396 42.62208399986562, -88.18821299974174 42.62408400026994, -88.18821500028987 42.625130000138306, -88.18821799976462 42.625933999740866, -88.18824700007693 42.6297949999978, -88.18824700007693 42.6298129997894, -88.18827200019129 42.63318599972129, -88.18828399988685 42.63572900022764, -88.18828800008481 42.63661800007084, -88.18829800013056 42.639136999688134, -88.18829800013056 42.63939300010283, -88.18830099960529 42.640161000313945, -88.18830300015343 42.64041800029839, -88.18830300015343 42.6412410002669, -88.18830599962817 42.6437149997588, -88.1883080001763 42.64453999989097, -88.18831099965102 42.64767900011882, -88.18831700039715 42.649557999675224, -88.18831999987187 42.65065000016684, -88.18832200042 42.651557999977975, -88.1883290000927 42.653568999692936, -88.1883290000927 42.65393600021874, -88.18832700044288 42.657173000081, -88.18832700044288 42.65726299968956, -88.18831800022204 42.66211500009353, -88.18830399997834 42.66864100029685, -88.18830300015343 42.66936100008926, -88.18830599962817 42.66970899974036, -88.18792300021182 42.669704999709886, -88.16898199998829 42.66910800020167, -88.16888699955373 42.66910600016713, -88.16033100012172 42.669272000173116, -88.15941200022985 42.66928899975874, -88.15920600036554 42.669287999744384, -88.15719100013152 42.66928699973002, -88.15114700015268 42.66928499970124, -88.14988500012913 42.66928499970124, -88.14913299974356 42.6692829996724, -88.1483610001648 42.66928100030401, -88.14604499963188 42.66927600023145, -88.14527300005312 42.669275000216885, -88.14422000026697 42.669272000173116, -88.1410610000102 42.66926500007041, -88.14000900004895 42.66926300004087, -88.13991600016254 42.66926200002611, -88.13963800032819 42.66926200002611, -88.13954600026668 42.66926200002611, -88.1394130001973 42.66926200002611, -88.13901300016421 42.66926400005563, -88.13888099991973 42.66926500007041, -88.13808500005152 42.66926800011452, -88.13657199995785 42.669274000202314, -88.1320340004 42.66929099978739, -88.13052200013121 42.66929799988717, -88.13044199976527 42.66929799988717, -88.13020199956576 42.66929899990136, -88.13012299992303 42.66929999991554, -88.12970299979847 42.66930199994383, -88.12035999982076 42.66934899992989, -88.11068799995508 42.66938999980435, -88.11059199969561 42.66939099981707, -88.11043799970983 42.669399999930725, -88.10574699999111 42.66966600005979, -88.10375400039669 42.66968800023799, -88.09777499981686 42.669754000065446, -88.09578300004739 42.6697760002125, -88.09342100038202 42.66980199971578, -88.08633399976446 42.66988000014183, -88.08397299992403 42.669906000262124, -88.0814870004101 42.669704999709886, -88.08082999956078 42.66970899974036, -88.08071300028323 42.66970899974036, -88.08036199975564 42.66970999974794, -88.08024600030299 42.669710999755495, -88.08012300027934 42.669710999755495, -88.07975699968314 42.66971299977057, -88.07963500038271 42.66971399977808, -88.0786410001478 42.66971799980797, -88.07566199981608 42.66973199991056, -88.07466900030437 42.66973799995356, -88.0739179997437 42.66974099997485, -88.0716649998583 42.669752000051695, -88.07091500002085 42.66975600007914, -88.070877000386 42.66975600007914, -88.07076299968489 42.66975600007914, -88.07072500005006 42.66975600007914))\n"
     ]
    },
    {
     "ename": "TypeError",
     "evalue": "'Polygon' object is not iterable",
     "output_type": "error",
     "traceback": [
      "\u001b[0;31m---------------------------------------------------------------------------\u001b[0m",
      "\u001b[0;31mTypeError\u001b[0m                                 Traceback (most recent call last)",
      "Input \u001b[0;32mIn [113]\u001b[0m, in \u001b[0;36m<module>\u001b[0;34m\u001b[0m\n\u001b[1;32m      5\u001b[0m \u001b[38;5;66;03m#     row_geodata = gpd.GeoDataFrame({'NAME': i[1][0],'POP100':i[1][1],'geometry': [i[1][2]]})\u001b[39;00m\n\u001b[1;32m      6\u001b[0m \u001b[38;5;66;03m#     \u001b[39;00m\n\u001b[1;32m      7\u001b[0m     \u001b[38;5;28mprint\u001b[39m(i[\u001b[38;5;241m1\u001b[39m][\u001b[38;5;124m'\u001b[39m\u001b[38;5;124mgeometry\u001b[39m\u001b[38;5;124m'\u001b[39m])\n\u001b[0;32m----> 8\u001b[0m     matrix, _ \u001b[38;5;241m=\u001b[39m \u001b[43mmask\u001b[49m\u001b[43m(\u001b[49m\u001b[43mland\u001b[49m\u001b[43m,\u001b[49m\u001b[43m \u001b[49m\u001b[43mi\u001b[49m\u001b[43m[\u001b[49m\u001b[38;5;241;43m1\u001b[39;49m\u001b[43m]\u001b[49m\u001b[43m[\u001b[49m\u001b[38;5;124;43m'\u001b[39;49m\u001b[38;5;124;43mgeometry\u001b[39;49m\u001b[38;5;124;43m'\u001b[39;49m\u001b[43m]\u001b[49m\u001b[43m,\u001b[49m\u001b[43m \u001b[49m\u001b[43mcrop\u001b[49m\u001b[38;5;241;43m=\u001b[39;49m\u001b[38;5;28;43;01mTrue\u001b[39;49;00m\u001b[43m)\u001b[49m\n\u001b[1;32m      9\u001b[0m \u001b[38;5;66;03m#     matrix, _ = mask(land, row_geodata.to_crs(land.crs)[\"geometry\"], crop=True)\u001b[39;00m\n\u001b[1;32m     10\u001b[0m     matrix \u001b[38;5;241m=\u001b[39m matrix[\u001b[38;5;241m0\u001b[39m]\n",
      "File \u001b[0;32m~/.local/lib/python3.8/site-packages/rasterio/mask.py:178\u001b[0m, in \u001b[0;36mmask\u001b[0;34m(dataset, shapes, all_touched, invert, nodata, filled, crop, pad, pad_width, indexes)\u001b[0m\n\u001b[1;32m    175\u001b[0m     \u001b[38;5;28;01melse\u001b[39;00m:\n\u001b[1;32m    176\u001b[0m         nodata \u001b[38;5;241m=\u001b[39m \u001b[38;5;241m0\u001b[39m\n\u001b[0;32m--> 178\u001b[0m shape_mask, transform, window \u001b[38;5;241m=\u001b[39m \u001b[43mraster_geometry_mask\u001b[49m\u001b[43m(\u001b[49m\n\u001b[1;32m    179\u001b[0m \u001b[43m    \u001b[49m\u001b[43mdataset\u001b[49m\u001b[43m,\u001b[49m\u001b[43m \u001b[49m\u001b[43mshapes\u001b[49m\u001b[43m,\u001b[49m\u001b[43m \u001b[49m\u001b[43mall_touched\u001b[49m\u001b[38;5;241;43m=\u001b[39;49m\u001b[43mall_touched\u001b[49m\u001b[43m,\u001b[49m\u001b[43m \u001b[49m\u001b[43minvert\u001b[49m\u001b[38;5;241;43m=\u001b[39;49m\u001b[43minvert\u001b[49m\u001b[43m,\u001b[49m\u001b[43m \u001b[49m\u001b[43mcrop\u001b[49m\u001b[38;5;241;43m=\u001b[39;49m\u001b[43mcrop\u001b[49m\u001b[43m,\u001b[49m\n\u001b[1;32m    180\u001b[0m \u001b[43m    \u001b[49m\u001b[43mpad\u001b[49m\u001b[38;5;241;43m=\u001b[39;49m\u001b[43mpad\u001b[49m\u001b[43m,\u001b[49m\u001b[43m \u001b[49m\u001b[43mpad_width\u001b[49m\u001b[38;5;241;43m=\u001b[39;49m\u001b[43mpad_width\u001b[49m\u001b[43m)\u001b[49m\n\u001b[1;32m    182\u001b[0m \u001b[38;5;28;01mif\u001b[39;00m indexes \u001b[38;5;129;01mis\u001b[39;00m \u001b[38;5;28;01mNone\u001b[39;00m:\n\u001b[1;32m    183\u001b[0m     out_shape \u001b[38;5;241m=\u001b[39m (dataset\u001b[38;5;241m.\u001b[39mcount, ) \u001b[38;5;241m+\u001b[39m shape_mask\u001b[38;5;241m.\u001b[39mshape\n",
      "File \u001b[0;32m~/.local/lib/python3.8/site-packages/rasterio/mask.py:80\u001b[0m, in \u001b[0;36mraster_geometry_mask\u001b[0;34m(dataset, shapes, all_touched, invert, crop, pad, pad_width)\u001b[0m\n\u001b[1;32m     77\u001b[0m     pad_y \u001b[38;5;241m=\u001b[39m \u001b[38;5;241m0\u001b[39m\n\u001b[1;32m     79\u001b[0m \u001b[38;5;28;01mtry\u001b[39;00m:\n\u001b[0;32m---> 80\u001b[0m     window \u001b[38;5;241m=\u001b[39m \u001b[43mgeometry_window\u001b[49m\u001b[43m(\u001b[49m\u001b[43mdataset\u001b[49m\u001b[43m,\u001b[49m\u001b[43m \u001b[49m\u001b[43mshapes\u001b[49m\u001b[43m,\u001b[49m\u001b[43m \u001b[49m\u001b[43mpad_x\u001b[49m\u001b[38;5;241;43m=\u001b[39;49m\u001b[43mpad_x\u001b[49m\u001b[43m,\u001b[49m\u001b[43m \u001b[49m\u001b[43mpad_y\u001b[49m\u001b[38;5;241;43m=\u001b[39;49m\u001b[43mpad_y\u001b[49m\u001b[43m)\u001b[49m\n\u001b[1;32m     82\u001b[0m \u001b[38;5;28;01mexcept\u001b[39;00m WindowError:\n\u001b[1;32m     83\u001b[0m     \u001b[38;5;66;03m# If shapes do not overlap raster, raise Exception or UserWarning\u001b[39;00m\n\u001b[1;32m     84\u001b[0m     \u001b[38;5;66;03m# depending on value of crop\u001b[39;00m\n\u001b[1;32m     85\u001b[0m     \u001b[38;5;28;01mif\u001b[39;00m crop:\n",
      "File \u001b[0;32m~/.local/lib/python3.8/site-packages/rasterio/features.py:441\u001b[0m, in \u001b[0;36mgeometry_window\u001b[0;34m(dataset, shapes, pad_x, pad_y, north_up, rotated, pixel_precision, boundless)\u001b[0m\n\u001b[1;32m    393\u001b[0m \u001b[38;5;28;01mdef\u001b[39;00m \u001b[38;5;21mgeometry_window\u001b[39m(\n\u001b[1;32m    394\u001b[0m     dataset,\n\u001b[1;32m    395\u001b[0m     shapes,\n\u001b[0;32m   (...)\u001b[0m\n\u001b[1;32m    401\u001b[0m     boundless\u001b[38;5;241m=\u001b[39m\u001b[38;5;28;01mFalse\u001b[39;00m,\n\u001b[1;32m    402\u001b[0m ):\n\u001b[1;32m    403\u001b[0m     \u001b[38;5;124;03m\"\"\"Calculate the window within the raster that fits the bounds of\u001b[39;00m\n\u001b[1;32m    404\u001b[0m \u001b[38;5;124;03m    the geometry plus optional padding.  The window is the outermost\u001b[39;00m\n\u001b[1;32m    405\u001b[0m \u001b[38;5;124;03m    pixel indices that contain the geometry (floor of offsets, ceiling\u001b[39;00m\n\u001b[0;32m   (...)\u001b[0m\n\u001b[1;32m    438\u001b[0m \n\u001b[1;32m    439\u001b[0m \u001b[38;5;124;03m    \"\"\"\u001b[39;00m\n\u001b[0;32m--> 441\u001b[0m     all_bounds \u001b[38;5;241m=\u001b[39m [bounds(shape, transform\u001b[38;5;241m=\u001b[39m\u001b[38;5;241m~\u001b[39mdataset\u001b[38;5;241m.\u001b[39mtransform) \u001b[38;5;28;01mfor\u001b[39;00m shape \u001b[38;5;129;01min\u001b[39;00m shapes]\n\u001b[1;32m    443\u001b[0m     cols \u001b[38;5;241m=\u001b[39m [\n\u001b[1;32m    444\u001b[0m         x\n\u001b[1;32m    445\u001b[0m         \u001b[38;5;28;01mfor\u001b[39;00m (left, bottom, right, top) \u001b[38;5;129;01min\u001b[39;00m all_bounds\n\u001b[1;32m    446\u001b[0m         \u001b[38;5;28;01mfor\u001b[39;00m x \u001b[38;5;129;01min\u001b[39;00m (left \u001b[38;5;241m-\u001b[39m pad_x, right \u001b[38;5;241m+\u001b[39m pad_x, right \u001b[38;5;241m+\u001b[39m pad_x, left \u001b[38;5;241m-\u001b[39m pad_x)\n\u001b[1;32m    447\u001b[0m     ]\n\u001b[1;32m    448\u001b[0m     rows \u001b[38;5;241m=\u001b[39m [\n\u001b[1;32m    449\u001b[0m         y\n\u001b[1;32m    450\u001b[0m         \u001b[38;5;28;01mfor\u001b[39;00m (left, bottom, right, top) \u001b[38;5;129;01min\u001b[39;00m all_bounds\n\u001b[1;32m    451\u001b[0m         \u001b[38;5;28;01mfor\u001b[39;00m y \u001b[38;5;129;01min\u001b[39;00m (top \u001b[38;5;241m-\u001b[39m pad_y, top \u001b[38;5;241m-\u001b[39m pad_y, bottom \u001b[38;5;241m+\u001b[39m pad_y, bottom \u001b[38;5;241m+\u001b[39m pad_y)\n\u001b[1;32m    452\u001b[0m     ]\n",
      "\u001b[0;31mTypeError\u001b[0m: 'Polygon' object is not iterable"
     ]
    }
   ],
   "source": [
    "#q15\n",
    "for i in counties.iterrows():\n",
    "    print(type(i[1]))\n",
    "\n",
    "#     row_geodata = gpd.GeoDataFrame({'NAME': i[1][0],'POP100':i[1][1],'geometry': [i[1][2]]})\n",
    "#     \n",
    "    print(i[1]['geometry'])\n",
    "    matrix, _ = mask(land, i[1]['geometry'], crop=True)\n",
    "#     matrix, _ = mask(land, row_geodata.to_crs(land.crs)[\"geometry\"], crop=True)\n",
    "    matrix = matrix[0]\n",
    "    \n",
    "    break\n",
    "#     print(type(i))\n",
    "# a[0]['geometry']"
   ]
  },
  {
   "cell_type": "code",
   "execution_count": 86,
   "id": "575186f5",
   "metadata": {},
   "outputs": [
    {
     "data": {
      "text/html": [
       "<div>\n",
       "<style scoped>\n",
       "    .dataframe tbody tr th:only-of-type {\n",
       "        vertical-align: middle;\n",
       "    }\n",
       "\n",
       "    .dataframe tbody tr th {\n",
       "        vertical-align: top;\n",
       "    }\n",
       "\n",
       "    .dataframe thead th {\n",
       "        text-align: right;\n",
       "    }\n",
       "</style>\n",
       "<table border=\"1\" class=\"dataframe\">\n",
       "  <thead>\n",
       "    <tr style=\"text-align: right;\">\n",
       "      <th></th>\n",
       "      <th>NAME</th>\n",
       "      <th>POP100</th>\n",
       "      <th>geometry</th>\n",
       "    </tr>\n",
       "  </thead>\n",
       "  <tbody>\n",
       "    <tr>\n",
       "      <th>0</th>\n",
       "      <td>Racine County</td>\n",
       "      <td>195408</td>\n",
       "      <td>POLYGON ((-88.07073 42.66976, -88.06897 42.669...</td>\n",
       "    </tr>\n",
       "  </tbody>\n",
       "</table>\n",
       "</div>"
      ],
      "text/plain": [
       "            NAME  POP100                                           geometry\n",
       "0  Racine County  195408  POLYGON ((-88.07073 42.66976, -88.06897 42.669..."
      ]
     },
     "execution_count": 86,
     "metadata": {},
     "output_type": "execute_result"
    }
   ],
   "source": [
    "row_geodata"
   ]
  },
  {
   "cell_type": "code",
   "execution_count": 78,
   "id": "a73c5ffc",
   "metadata": {},
   "outputs": [
    {
     "data": {
      "text/html": [
       "<div>\n",
       "<style scoped>\n",
       "    .dataframe tbody tr th:only-of-type {\n",
       "        vertical-align: middle;\n",
       "    }\n",
       "\n",
       "    .dataframe tbody tr th {\n",
       "        vertical-align: top;\n",
       "    }\n",
       "\n",
       "    .dataframe thead th {\n",
       "        text-align: right;\n",
       "    }\n",
       "</style>\n",
       "<table border=\"1\" class=\"dataframe\">\n",
       "  <thead>\n",
       "    <tr style=\"text-align: right;\">\n",
       "      <th></th>\n",
       "      <th>NAME</th>\n",
       "      <th>POP100</th>\n",
       "      <th>geometry</th>\n",
       "    </tr>\n",
       "  </thead>\n",
       "  <tbody>\n",
       "    <tr>\n",
       "      <th>0</th>\n",
       "      <td>Racine County</td>\n",
       "      <td>195408</td>\n",
       "      <td>POLYGON ((-88.07073 42.66976, -88.06897 42.669...</td>\n",
       "    </tr>\n",
       "  </tbody>\n",
       "</table>\n",
       "</div>"
      ],
      "text/plain": [
       "            NAME  POP100                                           geometry\n",
       "0  Racine County  195408  POLYGON ((-88.07073 42.66976, -88.06897 42.669..."
      ]
     },
     "execution_count": 78,
     "metadata": {},
     "output_type": "execute_result"
    }
   ],
   "source": [
    "gpd.GeoDataFrame({'NAME': i[1][0],'POP100':i[1][1],'geometry': [i[1][2]]})"
   ]
  },
  {
   "cell_type": "code",
   "execution_count": 68,
   "id": "4e637ceb",
   "metadata": {},
   "outputs": [
    {
     "data": {
      "text/html": [
       "<div>\n",
       "<style scoped>\n",
       "    .dataframe tbody tr th:only-of-type {\n",
       "        vertical-align: middle;\n",
       "    }\n",
       "\n",
       "    .dataframe tbody tr th {\n",
       "        vertical-align: top;\n",
       "    }\n",
       "\n",
       "    .dataframe thead th {\n",
       "        text-align: right;\n",
       "    }\n",
       "</style>\n",
       "<table border=\"1\" class=\"dataframe\">\n",
       "  <thead>\n",
       "    <tr style=\"text-align: right;\">\n",
       "      <th></th>\n",
       "      <th>NAME</th>\n",
       "      <th>POP100</th>\n",
       "      <th>geometry</th>\n",
       "    </tr>\n",
       "  </thead>\n",
       "  <tbody>\n",
       "    <tr>\n",
       "      <th>0</th>\n",
       "      <td>Racine County</td>\n",
       "      <td>195408</td>\n",
       "      <td>POLYGON ((-88.07073 42.66976, -88.06897 42.669...</td>\n",
       "    </tr>\n",
       "  </tbody>\n",
       "</table>\n",
       "</div>"
      ],
      "text/plain": [
       "            NAME  POP100                                           geometry\n",
       "0  Racine County  195408  POLYGON ((-88.07073 42.66976, -88.06897 42.669..."
      ]
     },
     "execution_count": 68,
     "metadata": {},
     "output_type": "execute_result"
    }
   ],
   "source": [
    "gpd.GeoDataFrame({'NAME': a[0]['NAME'],'POP100':a[0]['POP100'],'geometry': [a[0]['geometry']]})"
   ]
  },
  {
   "cell_type": "code",
   "execution_count": 64,
   "id": "f59de075",
   "metadata": {
    "scrolled": true
   },
   "outputs": [
    {
     "data": {
      "text/html": [
       "<div>\n",
       "<style scoped>\n",
       "    .dataframe tbody tr th:only-of-type {\n",
       "        vertical-align: middle;\n",
       "    }\n",
       "\n",
       "    .dataframe tbody tr th {\n",
       "        vertical-align: top;\n",
       "    }\n",
       "\n",
       "    .dataframe thead th {\n",
       "        text-align: right;\n",
       "    }\n",
       "</style>\n",
       "<table border=\"1\" class=\"dataframe\">\n",
       "  <thead>\n",
       "    <tr style=\"text-align: right;\">\n",
       "      <th></th>\n",
       "      <th>NAME</th>\n",
       "      <th>POP100</th>\n",
       "      <th>geometry</th>\n",
       "    </tr>\n",
       "  </thead>\n",
       "  <tbody>\n",
       "    <tr>\n",
       "      <th>0</th>\n",
       "      <td>Racine County</td>\n",
       "      <td>195408</td>\n",
       "      <td>POLYGON ((-88.07073 42.66976, -88.06897 42.669...</td>\n",
       "    </tr>\n",
       "  </tbody>\n",
       "</table>\n",
       "</div>"
      ],
      "text/plain": [
       "            NAME  POP100                                           geometry\n",
       "0  Racine County  195408  POLYGON ((-88.07073 42.66976, -88.06897 42.669..."
      ]
     },
     "execution_count": 64,
     "metadata": {},
     "output_type": "execute_result"
    }
   ],
   "source": [
    "gpd.GeoDataFrame({'NAME': ['Racine County'],'POP100':[195408],'geometry': [a[0]['geometry']]})"
   ]
  },
  {
   "cell_type": "code",
   "execution_count": 45,
   "id": "279142f7",
   "metadata": {},
   "outputs": [
    {
     "data": {
      "text/plain": [
       "(0,\n",
       " NAME                                            Racine County\n",
       " POP100                                                 195408\n",
       " geometry    POLYGON ((-88.07072500005006 42.66975600007914...\n",
       " Name: 0, dtype: object)"
      ]
     },
     "execution_count": 45,
     "metadata": {},
     "output_type": "execute_result"
    }
   ],
   "source": [
    "i"
   ]
  },
  {
   "cell_type": "code",
   "execution_count": null,
   "id": "828c8d56",
   "metadata": {},
   "outputs": [],
   "source": [
    "#q14\n",
    "a = matrix.reshape(1,-1)\n",
    "water=0\n",
    "counter = 0\n",
    "for x in a[0]:\n",
    "    if x in land_use.values():\n",
    "        if x == land_use['open_water']:\n",
    "            water +=1\n",
    "        counter +=1\n",
    "# water/a.shape[1]\n",
    "water/counter"
   ]
  },
  {
   "cell_type": "markdown",
   "id": "6f1ee70d",
   "metadata": {},
   "source": [
    "1. start with a GeoDataFrame dataset loaded from tracts.geojson\n",
    "2. add one or more feature columns to that dataset based on raster data land.zip (you can decide what the columns are, so think about what land types might correspond to population)\n",
    "3. split your GeoDataFrame into train/test using random_state=320\n",
    "4. construct at least 2 regression models. They should differ in terms of (a) what columns they use and/or (b) whether or not they're preceded by transformers in an sklearn Pipeline\n",
    "5. perform cross validation on both your models over your training dataset\n",
    "6. write a comment recommending which model you recommend for this prediction task. Factors you might consider are (a) high scores, (b) little variance across scores, (c) model simplicity, and (d) anything else you think is important.\n",
    "7. fit your recommended model to the entire training dataset and score it against the test dataset\n"
   ]
  },
  {
   "cell_type": "code",
   "execution_count": 115,
   "id": "b2cba70e",
   "metadata": {},
   "outputs": [
    {
     "data": {
      "text/html": [
       "<div>\n",
       "<style scoped>\n",
       "    .dataframe tbody tr th:only-of-type {\n",
       "        vertical-align: middle;\n",
       "    }\n",
       "\n",
       "    .dataframe tbody tr th {\n",
       "        vertical-align: top;\n",
       "    }\n",
       "\n",
       "    .dataframe thead th {\n",
       "        text-align: right;\n",
       "    }\n",
       "</style>\n",
       "<table border=\"1\" class=\"dataframe\">\n",
       "  <thead>\n",
       "    <tr style=\"text-align: right;\">\n",
       "      <th></th>\n",
       "      <th>GEOID</th>\n",
       "      <th>POP100</th>\n",
       "      <th>geometry</th>\n",
       "    </tr>\n",
       "  </thead>\n",
       "  <tbody>\n",
       "    <tr>\n",
       "      <th>0</th>\n",
       "      <td>55001950204</td>\n",
       "      <td>1646</td>\n",
       "      <td>POLYGON ((-90.02638 44.08721, -90.02628 44.086...</td>\n",
       "    </tr>\n",
       "    <tr>\n",
       "      <th>1</th>\n",
       "      <td>55009940002</td>\n",
       "      <td>4698</td>\n",
       "      <td>POLYGON ((-88.15018 44.51202, -88.15011 44.509...</td>\n",
       "    </tr>\n",
       "    <tr>\n",
       "      <th>2</th>\n",
       "      <td>55061990000</td>\n",
       "      <td>0</td>\n",
       "      <td>POLYGON ((-87.53727 44.33179, -87.53920 44.327...</td>\n",
       "    </tr>\n",
       "    <tr>\n",
       "      <th>3</th>\n",
       "      <td>55009020100</td>\n",
       "      <td>5817</td>\n",
       "      <td>POLYGON ((-87.93753 44.67821, -87.93742 44.630...</td>\n",
       "    </tr>\n",
       "    <tr>\n",
       "      <th>4</th>\n",
       "      <td>55009010100</td>\n",
       "      <td>6506</td>\n",
       "      <td>POLYGON ((-88.06825 44.45368, -88.06830 44.453...</td>\n",
       "    </tr>\n",
       "    <tr>\n",
       "      <th>...</th>\n",
       "      <td>...</td>\n",
       "      <td>...</td>\n",
       "      <td>...</td>\n",
       "    </tr>\n",
       "    <tr>\n",
       "      <th>1537</th>\n",
       "      <td>55139003100</td>\n",
       "      <td>2046</td>\n",
       "      <td>POLYGON ((-88.47454 44.19198, -88.47453 44.191...</td>\n",
       "    </tr>\n",
       "    <tr>\n",
       "      <th>1538</th>\n",
       "      <td>55079017900</td>\n",
       "      <td>2879</td>\n",
       "      <td>POLYGON ((-87.91064 42.99520, -87.91063 42.995...</td>\n",
       "    </tr>\n",
       "    <tr>\n",
       "      <th>1539</th>\n",
       "      <td>55059000800</td>\n",
       "      <td>2763</td>\n",
       "      <td>POLYGON ((-87.84574 42.60276, -87.84574 42.602...</td>\n",
       "    </tr>\n",
       "    <tr>\n",
       "      <th>1540</th>\n",
       "      <td>55025013700</td>\n",
       "      <td>7107</td>\n",
       "      <td>POLYGON ((-89.57788 42.98135, -89.57789 42.980...</td>\n",
       "    </tr>\n",
       "    <tr>\n",
       "      <th>1541</th>\n",
       "      <td>55025012501</td>\n",
       "      <td>6657</td>\n",
       "      <td>POLYGON ((-89.38848 42.91102, -89.38848 42.910...</td>\n",
       "    </tr>\n",
       "  </tbody>\n",
       "</table>\n",
       "<p>1542 rows × 3 columns</p>\n",
       "</div>"
      ],
      "text/plain": [
       "            GEOID  POP100                                           geometry\n",
       "0     55001950204    1646  POLYGON ((-90.02638 44.08721, -90.02628 44.086...\n",
       "1     55009940002    4698  POLYGON ((-88.15018 44.51202, -88.15011 44.509...\n",
       "2     55061990000       0  POLYGON ((-87.53727 44.33179, -87.53920 44.327...\n",
       "3     55009020100    5817  POLYGON ((-87.93753 44.67821, -87.93742 44.630...\n",
       "4     55009010100    6506  POLYGON ((-88.06825 44.45368, -88.06830 44.453...\n",
       "...           ...     ...                                                ...\n",
       "1537  55139003100    2046  POLYGON ((-88.47454 44.19198, -88.47453 44.191...\n",
       "1538  55079017900    2879  POLYGON ((-87.91064 42.99520, -87.91063 42.995...\n",
       "1539  55059000800    2763  POLYGON ((-87.84574 42.60276, -87.84574 42.602...\n",
       "1540  55025013700    7107  POLYGON ((-89.57788 42.98135, -89.57789 42.980...\n",
       "1541  55025012501    6657  POLYGON ((-89.38848 42.91102, -89.38848 42.910...\n",
       "\n",
       "[1542 rows x 3 columns]"
      ]
     },
     "execution_count": 115,
     "metadata": {},
     "output_type": "execute_result"
    }
   ],
   "source": [
    "tracts = gpd.read_file(\"tracts.geojson\")\n",
    "tracts"
   ]
  },
  {
   "cell_type": "code",
   "execution_count": 116,
   "id": "c43b8dd7",
   "metadata": {},
   "outputs": [
    {
     "data": {
      "text/html": [
       "<div>\n",
       "<style scoped>\n",
       "    .dataframe tbody tr th:only-of-type {\n",
       "        vertical-align: middle;\n",
       "    }\n",
       "\n",
       "    .dataframe tbody tr th {\n",
       "        vertical-align: top;\n",
       "    }\n",
       "\n",
       "    .dataframe thead th {\n",
       "        text-align: right;\n",
       "    }\n",
       "</style>\n",
       "<table border=\"1\" class=\"dataframe\">\n",
       "  <thead>\n",
       "    <tr style=\"text-align: right;\">\n",
       "      <th></th>\n",
       "      <th>index</th>\n",
       "      <th>NAME</th>\n",
       "      <th>COUNTY</th>\n",
       "      <th>HU100</th>\n",
       "    </tr>\n",
       "  </thead>\n",
       "  <tbody>\n",
       "    <tr>\n",
       "      <th>0</th>\n",
       "      <td>0</td>\n",
       "      <td>Census Tract 9701.01</td>\n",
       "      <td>085</td>\n",
       "      <td>2760</td>\n",
       "    </tr>\n",
       "    <tr>\n",
       "      <th>1</th>\n",
       "      <td>1</td>\n",
       "      <td>Census Tract 9710.01</td>\n",
       "      <td>085</td>\n",
       "      <td>1536</td>\n",
       "    </tr>\n",
       "    <tr>\n",
       "      <th>2</th>\n",
       "      <td>2</td>\n",
       "      <td>Census Tract 9706.01</td>\n",
       "      <td>085</td>\n",
       "      <td>1208</td>\n",
       "    </tr>\n",
       "    <tr>\n",
       "      <th>3</th>\n",
       "      <td>3</td>\n",
       "      <td>Census Tract 9706.02</td>\n",
       "      <td>085</td>\n",
       "      <td>3136</td>\n",
       "    </tr>\n",
       "    <tr>\n",
       "      <th>4</th>\n",
       "      <td>4</td>\n",
       "      <td>Census Tract 4301</td>\n",
       "      <td>131</td>\n",
       "      <td>2144</td>\n",
       "    </tr>\n",
       "    <tr>\n",
       "      <th>...</th>\n",
       "      <td>...</td>\n",
       "      <td>...</td>\n",
       "      <td>...</td>\n",
       "      <td>...</td>\n",
       "    </tr>\n",
       "    <tr>\n",
       "      <th>1404</th>\n",
       "      <td>1404</td>\n",
       "      <td>Census Tract 14</td>\n",
       "      <td>059</td>\n",
       "      <td>2913</td>\n",
       "    </tr>\n",
       "    <tr>\n",
       "      <th>1405</th>\n",
       "      <td>1405</td>\n",
       "      <td>Census Tract 15</td>\n",
       "      <td>059</td>\n",
       "      <td>1550</td>\n",
       "    </tr>\n",
       "    <tr>\n",
       "      <th>1406</th>\n",
       "      <td>1406</td>\n",
       "      <td>Census Tract 16</td>\n",
       "      <td>059</td>\n",
       "      <td>1286</td>\n",
       "    </tr>\n",
       "    <tr>\n",
       "      <th>1407</th>\n",
       "      <td>1407</td>\n",
       "      <td>Census Tract 17</td>\n",
       "      <td>059</td>\n",
       "      <td>1068</td>\n",
       "    </tr>\n",
       "    <tr>\n",
       "      <th>1408</th>\n",
       "      <td>1408</td>\n",
       "      <td>Census Tract 18</td>\n",
       "      <td>059</td>\n",
       "      <td>927</td>\n",
       "    </tr>\n",
       "  </tbody>\n",
       "</table>\n",
       "<p>1409 rows × 4 columns</p>\n",
       "</div>"
      ],
      "text/plain": [
       "      index                  NAME COUNTY  HU100\n",
       "0         0  Census Tract 9701.01    085   2760\n",
       "1         1  Census Tract 9710.01    085   1536\n",
       "2         2  Census Tract 9706.01    085   1208\n",
       "3         3  Census Tract 9706.02    085   3136\n",
       "4         4     Census Tract 4301    131   2144\n",
       "...     ...                   ...    ...    ...\n",
       "1404   1404       Census Tract 14    059   2913\n",
       "1405   1405       Census Tract 15    059   1550\n",
       "1406   1406       Census Tract 16    059   1286\n",
       "1407   1407       Census Tract 17    059   1068\n",
       "1408   1408       Census Tract 18    059    927\n",
       "\n",
       "[1409 rows x 4 columns]"
      ]
     },
     "execution_count": 116,
     "metadata": {},
     "output_type": "execute_result"
    }
   ],
   "source": [
    "counties = pd.read_sql(\"\"\"SELECT * FROM tracts\"\"\", conn)\n",
    "counties"
   ]
  },
  {
   "cell_type": "code",
   "execution_count": null,
   "id": "e82bd354",
   "metadata": {},
   "outputs": [],
   "source": [
    "tracts.head()"
   ]
  },
  {
   "cell_type": "code",
   "execution_count": null,
   "id": "5e83f9fc",
   "metadata": {},
   "outputs": [],
   "source": [
    "tracts.geojson"
   ]
  },
  {
   "cell_type": "code",
   "execution_count": null,
   "id": "98c2144d",
   "metadata": {},
   "outputs": [],
   "source": [
    "counties = pd.read_sql(\"\"\"SELECT * FROM counties\"\"\", conn)\n",
    "counties.head()"
   ]
  },
  {
   "cell_type": "code",
   "execution_count": null,
   "id": "7c475f92",
   "metadata": {},
   "outputs": [],
   "source": []
  },
  {
   "cell_type": "code",
   "execution_count": null,
   "id": "51d7d868",
   "metadata": {},
   "outputs": [],
   "source": []
  },
  {
   "cell_type": "code",
   "execution_count": null,
   "id": "445d1419",
   "metadata": {},
   "outputs": [],
   "source": []
  },
  {
   "cell_type": "code",
   "execution_count": null,
   "id": "4f0f9f84",
   "metadata": {},
   "outputs": [],
   "source": []
  },
  {
   "cell_type": "code",
   "execution_count": null,
   "id": "c9ad020b",
   "metadata": {},
   "outputs": [],
   "source": []
  },
  {
   "cell_type": "code",
   "execution_count": null,
   "id": "94f08e7a",
   "metadata": {},
   "outputs": [],
   "source": []
  },
  {
   "cell_type": "code",
   "execution_count": null,
   "id": "7870a8e1",
   "metadata": {},
   "outputs": [],
   "source": []
  },
  {
   "cell_type": "code",
   "execution_count": null,
   "id": "c6c8771d",
   "metadata": {},
   "outputs": [],
   "source": []
  }
 ],
 "metadata": {
  "kernelspec": {
   "display_name": "Python 3 (ipykernel)",
   "language": "python",
   "name": "python3"
  },
  "language_info": {
   "codemirror_mode": {
    "name": "ipython",
    "version": 3
   },
   "file_extension": ".py",
   "mimetype": "text/x-python",
   "name": "python",
   "nbconvert_exporter": "python",
   "pygments_lexer": "ipython3",
   "version": "3.8.10"
  }
 },
 "nbformat": 4,
 "nbformat_minor": 5
}
