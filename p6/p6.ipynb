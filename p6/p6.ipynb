{
 "cells": [
  {
   "cell_type": "code",
   "execution_count": 1,
   "id": "6787ce1e",
   "metadata": {},
   "outputs": [],
   "source": [
    "# project: p6\n",
    "# submitter: cjhon\n",
    "# partner: none\n",
    "# hours: 30"
   ]
  },
  {
   "cell_type": "code",
   "execution_count": 2,
   "id": "f167eb54",
   "metadata": {},
   "outputs": [],
   "source": [
    "import geopandas as gpd\n",
    "import matplotlib.pyplot as plt\n",
    "from shapely.geometry import Polygon, box, Point\n",
    "import pandas as pd"
   ]
  },
  {
   "cell_type": "code",
   "execution_count": 3,
   "id": "9f68be41",
   "metadata": {},
   "outputs": [
    {
     "data": {
      "text/html": [
       "<div>\n",
       "<style scoped>\n",
       "    .dataframe tbody tr th:only-of-type {\n",
       "        vertical-align: middle;\n",
       "    }\n",
       "\n",
       "    .dataframe tbody tr th {\n",
       "        vertical-align: top;\n",
       "    }\n",
       "\n",
       "    .dataframe thead th {\n",
       "        text-align: right;\n",
       "    }\n",
       "</style>\n",
       "<table border=\"1\" class=\"dataframe\">\n",
       "  <thead>\n",
       "    <tr style=\"text-align: right;\">\n",
       "      <th></th>\n",
       "      <th>NAME</th>\n",
       "      <th>POP100</th>\n",
       "      <th>geometry</th>\n",
       "    </tr>\n",
       "  </thead>\n",
       "  <tbody>\n",
       "    <tr>\n",
       "      <th>0</th>\n",
       "      <td>Racine County</td>\n",
       "      <td>195408</td>\n",
       "      <td>POLYGON ((-88.07073 42.66976, -88.06897 42.669...</td>\n",
       "    </tr>\n",
       "    <tr>\n",
       "      <th>1</th>\n",
       "      <td>Clark County</td>\n",
       "      <td>34690</td>\n",
       "      <td>POLYGON ((-90.55875 44.42221, -90.53398 44.422...</td>\n",
       "    </tr>\n",
       "    <tr>\n",
       "      <th>2</th>\n",
       "      <td>Wood County</td>\n",
       "      <td>74749</td>\n",
       "      <td>POLYGON ((-89.72464 44.33712, -89.72460 44.338...</td>\n",
       "    </tr>\n",
       "    <tr>\n",
       "      <th>3</th>\n",
       "      <td>Rusk County</td>\n",
       "      <td>14755</td>\n",
       "      <td>POLYGON ((-90.92517 45.37935, -90.92515 45.379...</td>\n",
       "    </tr>\n",
       "    <tr>\n",
       "      <th>4</th>\n",
       "      <td>Ozaukee County</td>\n",
       "      <td>86395</td>\n",
       "      <td>POLYGON ((-87.89269 43.19202, -87.89265 43.192...</td>\n",
       "    </tr>\n",
       "  </tbody>\n",
       "</table>\n",
       "</div>"
      ],
      "text/plain": [
       "             NAME  POP100                                           geometry\n",
       "0   Racine County  195408  POLYGON ((-88.07073 42.66976, -88.06897 42.669...\n",
       "1    Clark County   34690  POLYGON ((-90.55875 44.42221, -90.53398 44.422...\n",
       "2     Wood County   74749  POLYGON ((-89.72464 44.33712, -89.72460 44.338...\n",
       "3     Rusk County   14755  POLYGON ((-90.92517 45.37935, -90.92515 45.379...\n",
       "4  Ozaukee County   86395  POLYGON ((-87.89269 43.19202, -87.89265 43.192..."
      ]
     },
     "execution_count": 3,
     "metadata": {},
     "output_type": "execute_result"
    }
   ],
   "source": [
    "locations = gpd.read_file(\"counties.geojson\")\n",
    "locations.head()"
   ]
  },
  {
   "cell_type": "code",
   "execution_count": 4,
   "id": "c6573bb1",
   "metadata": {},
   "outputs": [
    {
     "data": {
      "text/plain": [
       "72"
      ]
     },
     "execution_count": 4,
     "metadata": {},
     "output_type": "execute_result"
    }
   ],
   "source": [
    "#q1\n",
    "len(locations['NAME'].unique())"
   ]
  },
  {
   "cell_type": "code",
   "execution_count": 5,
   "id": "970ff814",
   "metadata": {
    "scrolled": true
   },
   "outputs": [
    {
     "data": {
      "text/html": [
       "<div>\n",
       "<style scoped>\n",
       "    .dataframe tbody tr th:only-of-type {\n",
       "        vertical-align: middle;\n",
       "    }\n",
       "\n",
       "    .dataframe tbody tr th {\n",
       "        vertical-align: top;\n",
       "    }\n",
       "\n",
       "    .dataframe thead th {\n",
       "        text-align: right;\n",
       "    }\n",
       "</style>\n",
       "<table border=\"1\" class=\"dataframe\">\n",
       "  <thead>\n",
       "    <tr style=\"text-align: right;\">\n",
       "      <th></th>\n",
       "      <th>type</th>\n",
       "      <th>name</th>\n",
       "      <th>tbl_name</th>\n",
       "      <th>rootpage</th>\n",
       "      <th>sql</th>\n",
       "    </tr>\n",
       "  </thead>\n",
       "  <tbody>\n",
       "    <tr>\n",
       "      <th>0</th>\n",
       "      <td>table</td>\n",
       "      <td>counties</td>\n",
       "      <td>counties</td>\n",
       "      <td>2</td>\n",
       "      <td>CREATE TABLE \"counties\" (\\n\"index\" INTEGER,\\n ...</td>\n",
       "    </tr>\n",
       "    <tr>\n",
       "      <th>1</th>\n",
       "      <td>index</td>\n",
       "      <td>ix_counties_index</td>\n",
       "      <td>counties</td>\n",
       "      <td>3</td>\n",
       "      <td>CREATE INDEX \"ix_counties_index\"ON \"counties\" ...</td>\n",
       "    </tr>\n",
       "    <tr>\n",
       "      <th>2</th>\n",
       "      <td>table</td>\n",
       "      <td>tracts</td>\n",
       "      <td>tracts</td>\n",
       "      <td>4</td>\n",
       "      <td>CREATE TABLE \"tracts\" (\\n\"index\" INTEGER,\\n  \"...</td>\n",
       "    </tr>\n",
       "    <tr>\n",
       "      <th>3</th>\n",
       "      <td>index</td>\n",
       "      <td>ix_tracts_index</td>\n",
       "      <td>tracts</td>\n",
       "      <td>5</td>\n",
       "      <td>CREATE INDEX \"ix_tracts_index\"ON \"tracts\" (\"in...</td>\n",
       "    </tr>\n",
       "  </tbody>\n",
       "</table>\n",
       "</div>"
      ],
      "text/plain": [
       "    type               name  tbl_name  rootpage  \\\n",
       "0  table           counties  counties         2   \n",
       "1  index  ix_counties_index  counties         3   \n",
       "2  table             tracts    tracts         4   \n",
       "3  index    ix_tracts_index    tracts         5   \n",
       "\n",
       "                                                 sql  \n",
       "0  CREATE TABLE \"counties\" (\\n\"index\" INTEGER,\\n ...  \n",
       "1  CREATE INDEX \"ix_counties_index\"ON \"counties\" ...  \n",
       "2  CREATE TABLE \"tracts\" (\\n\"index\" INTEGER,\\n  \"...  \n",
       "3  CREATE INDEX \"ix_tracts_index\"ON \"tracts\" (\"in...  "
      ]
     },
     "execution_count": 5,
     "metadata": {},
     "output_type": "execute_result"
    }
   ],
   "source": [
    "from sqlite3 import connect\n",
    "conn = connect('counties_tracts.db')\n",
    "\n",
    "counties_tracts = pd.read_sql(\"\"\"SELECT * FROM sqlite_master\"\"\", conn)\n",
    "counties_tracts"
   ]
  },
  {
   "cell_type": "code",
   "execution_count": 6,
   "id": "896ef84f",
   "metadata": {
    "scrolled": true
   },
   "outputs": [
    {
     "data": {
      "text/html": [
       "<div>\n",
       "<style scoped>\n",
       "    .dataframe tbody tr th:only-of-type {\n",
       "        vertical-align: middle;\n",
       "    }\n",
       "\n",
       "    .dataframe tbody tr th {\n",
       "        vertical-align: top;\n",
       "    }\n",
       "\n",
       "    .dataframe thead th {\n",
       "        text-align: right;\n",
       "    }\n",
       "</style>\n",
       "<table border=\"1\" class=\"dataframe\">\n",
       "  <thead>\n",
       "    <tr style=\"text-align: right;\">\n",
       "      <th></th>\n",
       "      <th>index</th>\n",
       "      <th>NAME</th>\n",
       "      <th>COUNTY</th>\n",
       "      <th>AREALAND</th>\n",
       "      <th>AREAWATER</th>\n",
       "    </tr>\n",
       "  </thead>\n",
       "  <tbody>\n",
       "    <tr>\n",
       "      <th>0</th>\n",
       "      <td>0</td>\n",
       "      <td>Racine County</td>\n",
       "      <td>101</td>\n",
       "      <td>861533739</td>\n",
       "      <td>1190103013</td>\n",
       "    </tr>\n",
       "    <tr>\n",
       "      <th>1</th>\n",
       "      <td>1</td>\n",
       "      <td>Clark County</td>\n",
       "      <td>019</td>\n",
       "      <td>3133378070</td>\n",
       "      <td>23239614</td>\n",
       "    </tr>\n",
       "    <tr>\n",
       "      <th>2</th>\n",
       "      <td>2</td>\n",
       "      <td>Wood County</td>\n",
       "      <td>141</td>\n",
       "      <td>2054044751</td>\n",
       "      <td>41994799</td>\n",
       "    </tr>\n",
       "    <tr>\n",
       "      <th>3</th>\n",
       "      <td>3</td>\n",
       "      <td>Rusk County</td>\n",
       "      <td>107</td>\n",
       "      <td>2366092584</td>\n",
       "      <td>44813690</td>\n",
       "    </tr>\n",
       "    <tr>\n",
       "      <th>4</th>\n",
       "      <td>4</td>\n",
       "      <td>Ozaukee County</td>\n",
       "      <td>089</td>\n",
       "      <td>603514413</td>\n",
       "      <td>2287415379</td>\n",
       "    </tr>\n",
       "  </tbody>\n",
       "</table>\n",
       "</div>"
      ],
      "text/plain": [
       "   index            NAME COUNTY    AREALAND   AREAWATER\n",
       "0      0   Racine County    101   861533739  1190103013\n",
       "1      1    Clark County    019  3133378070    23239614\n",
       "2      2     Wood County    141  2054044751    41994799\n",
       "3      3     Rusk County    107  2366092584    44813690\n",
       "4      4  Ozaukee County    089   603514413  2287415379"
      ]
     },
     "execution_count": 6,
     "metadata": {},
     "output_type": "execute_result"
    }
   ],
   "source": [
    "counties = pd.read_sql(\"\"\"SELECT * FROM counties\"\"\", conn)\n",
    "counties.head()"
   ]
  },
  {
   "cell_type": "code",
   "execution_count": 7,
   "id": "903ce21c",
   "metadata": {},
   "outputs": [
    {
     "data": {
      "text/html": [
       "<div>\n",
       "<style scoped>\n",
       "    .dataframe tbody tr th:only-of-type {\n",
       "        vertical-align: middle;\n",
       "    }\n",
       "\n",
       "    .dataframe tbody tr th {\n",
       "        vertical-align: top;\n",
       "    }\n",
       "\n",
       "    .dataframe thead th {\n",
       "        text-align: right;\n",
       "    }\n",
       "</style>\n",
       "<table border=\"1\" class=\"dataframe\">\n",
       "  <thead>\n",
       "    <tr style=\"text-align: right;\">\n",
       "      <th></th>\n",
       "      <th>index</th>\n",
       "      <th>NAME</th>\n",
       "      <th>COUNTY</th>\n",
       "      <th>HU100</th>\n",
       "    </tr>\n",
       "  </thead>\n",
       "  <tbody>\n",
       "    <tr>\n",
       "      <th>0</th>\n",
       "      <td>0</td>\n",
       "      <td>Census Tract 9701.01</td>\n",
       "      <td>085</td>\n",
       "      <td>2760</td>\n",
       "    </tr>\n",
       "    <tr>\n",
       "      <th>1</th>\n",
       "      <td>1</td>\n",
       "      <td>Census Tract 9710.01</td>\n",
       "      <td>085</td>\n",
       "      <td>1536</td>\n",
       "    </tr>\n",
       "    <tr>\n",
       "      <th>2</th>\n",
       "      <td>2</td>\n",
       "      <td>Census Tract 9706.01</td>\n",
       "      <td>085</td>\n",
       "      <td>1208</td>\n",
       "    </tr>\n",
       "    <tr>\n",
       "      <th>3</th>\n",
       "      <td>3</td>\n",
       "      <td>Census Tract 9706.02</td>\n",
       "      <td>085</td>\n",
       "      <td>3136</td>\n",
       "    </tr>\n",
       "    <tr>\n",
       "      <th>4</th>\n",
       "      <td>4</td>\n",
       "      <td>Census Tract 4301</td>\n",
       "      <td>131</td>\n",
       "      <td>2144</td>\n",
       "    </tr>\n",
       "  </tbody>\n",
       "</table>\n",
       "</div>"
      ],
      "text/plain": [
       "   index                  NAME COUNTY  HU100\n",
       "0      0  Census Tract 9701.01    085   2760\n",
       "1      1  Census Tract 9710.01    085   1536\n",
       "2      2  Census Tract 9706.01    085   1208\n",
       "3      3  Census Tract 9706.02    085   3136\n",
       "4      4     Census Tract 4301    131   2144"
      ]
     },
     "execution_count": 7,
     "metadata": {},
     "output_type": "execute_result"
    }
   ],
   "source": [
    "tracts = pd.read_sql(\"\"\"SELECT * FROM tracts\"\"\", conn)\n",
    "tracts.head()"
   ]
  },
  {
   "cell_type": "code",
   "execution_count": 8,
   "id": "9560430d",
   "metadata": {},
   "outputs": [
    {
     "data": {
      "text/html": [
       "<div>\n",
       "<style scoped>\n",
       "    .dataframe tbody tr th:only-of-type {\n",
       "        vertical-align: middle;\n",
       "    }\n",
       "\n",
       "    .dataframe tbody tr th {\n",
       "        vertical-align: top;\n",
       "    }\n",
       "\n",
       "    .dataframe thead th {\n",
       "        text-align: right;\n",
       "    }\n",
       "</style>\n",
       "<table border=\"1\" class=\"dataframe\">\n",
       "  <thead>\n",
       "    <tr style=\"text-align: right;\">\n",
       "      <th></th>\n",
       "      <th>NAME</th>\n",
       "      <th>POP100</th>\n",
       "      <th>geometry</th>\n",
       "      <th>index</th>\n",
       "      <th>COUNTY</th>\n",
       "      <th>AREALAND</th>\n",
       "      <th>AREAWATER</th>\n",
       "    </tr>\n",
       "  </thead>\n",
       "  <tbody>\n",
       "    <tr>\n",
       "      <th>0</th>\n",
       "      <td>Racine County</td>\n",
       "      <td>195408</td>\n",
       "      <td>POLYGON ((-88.07073 42.66976, -88.06897 42.669...</td>\n",
       "      <td>0</td>\n",
       "      <td>101</td>\n",
       "      <td>861533739</td>\n",
       "      <td>1190103013</td>\n",
       "    </tr>\n",
       "    <tr>\n",
       "      <th>1</th>\n",
       "      <td>Clark County</td>\n",
       "      <td>34690</td>\n",
       "      <td>POLYGON ((-90.55875 44.42221, -90.53398 44.422...</td>\n",
       "      <td>1</td>\n",
       "      <td>019</td>\n",
       "      <td>3133378070</td>\n",
       "      <td>23239614</td>\n",
       "    </tr>\n",
       "    <tr>\n",
       "      <th>2</th>\n",
       "      <td>Wood County</td>\n",
       "      <td>74749</td>\n",
       "      <td>POLYGON ((-89.72464 44.33712, -89.72460 44.338...</td>\n",
       "      <td>2</td>\n",
       "      <td>141</td>\n",
       "      <td>2054044751</td>\n",
       "      <td>41994799</td>\n",
       "    </tr>\n",
       "    <tr>\n",
       "      <th>3</th>\n",
       "      <td>Rusk County</td>\n",
       "      <td>14755</td>\n",
       "      <td>POLYGON ((-90.92517 45.37935, -90.92515 45.379...</td>\n",
       "      <td>3</td>\n",
       "      <td>107</td>\n",
       "      <td>2366092584</td>\n",
       "      <td>44813690</td>\n",
       "    </tr>\n",
       "    <tr>\n",
       "      <th>4</th>\n",
       "      <td>Ozaukee County</td>\n",
       "      <td>86395</td>\n",
       "      <td>POLYGON ((-87.89269 43.19202, -87.89265 43.192...</td>\n",
       "      <td>4</td>\n",
       "      <td>089</td>\n",
       "      <td>603514413</td>\n",
       "      <td>2287415379</td>\n",
       "    </tr>\n",
       "  </tbody>\n",
       "</table>\n",
       "</div>"
      ],
      "text/plain": [
       "             NAME  POP100                                           geometry  \\\n",
       "0   Racine County  195408  POLYGON ((-88.07073 42.66976, -88.06897 42.669...   \n",
       "1    Clark County   34690  POLYGON ((-90.55875 44.42221, -90.53398 44.422...   \n",
       "2     Wood County   74749  POLYGON ((-89.72464 44.33712, -89.72460 44.338...   \n",
       "3     Rusk County   14755  POLYGON ((-90.92517 45.37935, -90.92515 45.379...   \n",
       "4  Ozaukee County   86395  POLYGON ((-87.89269 43.19202, -87.89265 43.192...   \n",
       "\n",
       "   index COUNTY    AREALAND   AREAWATER  \n",
       "0      0    101   861533739  1190103013  \n",
       "1      1    019  3133378070    23239614  \n",
       "2      2    141  2054044751    41994799  \n",
       "3      3    107  2366092584    44813690  \n",
       "4      4    089   603514413  2287415379  "
      ]
     },
     "execution_count": 8,
     "metadata": {},
     "output_type": "execute_result"
    }
   ],
   "source": [
    "# locations_arealand = locations.merge(counties[['NAME','AREALAND']], how=\"left\", on=\"NAME\")\n",
    "locations_arealand = locations.merge(counties, how=\"left\", on=\"NAME\")\n",
    "\n",
    "locations_arealand.head()"
   ]
  },
  {
   "cell_type": "code",
   "execution_count": 9,
   "id": "8ddd75d3",
   "metadata": {},
   "outputs": [
    {
     "data": {
      "text/plain": [
       "<AxesSubplot:>"
      ]
     },
     "execution_count": 9,
     "metadata": {},
     "output_type": "execute_result"
    },
    {
     "data": {
      "image/png": "[encoded data removed]",
      "text/plain": [
       "<Figure size 432x288 with 2 Axes>"
      ]
     },
     "metadata": {
      "needs_background": "light"
     },
     "output_type": "display_data"
    }
   ],
   "source": [
    "#q2\n",
    "locations_arealand.plot(column=\"POP100\",legend =True, cmap=\"viridis\")"
   ]
  },
  {
   "cell_type": "code",
   "execution_count": 10,
   "id": "825a4482",
   "metadata": {},
   "outputs": [],
   "source": [
    "import numpy as np\n",
    "from sklearn.model_selection import train_test_split\n",
    "from sklearn.linear_model import LinearRegression\n",
    "import numpy as np\n",
    "\n",
    "train, test = train_test_split(locations_arealand, test_size=0.25, random_state=320)"
   ]
  },
  {
   "cell_type": "code",
   "execution_count": 11,
   "id": "12debbaf",
   "metadata": {
    "scrolled": true
   },
   "outputs": [
    {
     "data": {
      "text/plain": [
       "['Kewaunee County',\n",
       " 'Calumet County',\n",
       " 'Adams County',\n",
       " 'Eau Claire County',\n",
       " 'Milwaukee County',\n",
       " 'Ashland County',\n",
       " 'Wood County',\n",
       " 'Dodge County',\n",
       " 'Sauk County',\n",
       " 'Clark County',\n",
       " 'Pepin County',\n",
       " 'Taylor County',\n",
       " 'Iron County',\n",
       " 'Outagamie County',\n",
       " 'Florence County',\n",
       " 'Oneida County',\n",
       " 'Pierce County',\n",
       " 'Grant County']"
      ]
     },
     "execution_count": 11,
     "metadata": {},
     "output_type": "execute_result"
    }
   ],
   "source": [
    "#q3\n",
    "list(test['NAME'])"
   ]
  },
  {
   "cell_type": "code",
   "execution_count": 12,
   "id": "e85637fa",
   "metadata": {},
   "outputs": [
    {
     "data": {
      "text/plain": [
       "0.022002661530554857"
      ]
     },
     "execution_count": 12,
     "metadata": {},
     "output_type": "execute_result"
    }
   ],
   "source": [
    "#q4\n",
    "lr = LinearRegression()\n",
    "lr.fit(train[[\"AREALAND\"]], train[\"POP100\"])\n",
    "lr.score(test[[\"AREALAND\"]], test[\"POP100\"])"
   ]
  },
  {
   "cell_type": "code",
   "execution_count": 13,
   "id": "d2c96bcc",
   "metadata": {
    "scrolled": true
   },
   "outputs": [
    {
     "name": "stderr",
     "output_type": "stream",
     "text": [
      "/home/charles/.local/lib/python3.8/site-packages/sklearn/base.py:450: UserWarning: X does not have valid feature names, but LinearRegression was fitted with feature names\n",
      "  warnings.warn(\n"
     ]
    },
    {
     "data": {
      "text/plain": [
       "82032.53073541154"
      ]
     },
     "execution_count": 13,
     "metadata": {},
     "output_type": "execute_result"
    }
   ],
   "source": [
    "#q5\n",
    "temporary = pd.DataFrame([1e6 * 500 * 2.59])\n",
    "lr.predict(temporary)[0]"
   ]
  },
  {
   "cell_type": "markdown",
   "id": "32878cb0",
   "metadata": {},
   "source": [
    "HU100"
   ]
  },
  {
   "cell_type": "code",
   "execution_count": 14,
   "id": "07459a32",
   "metadata": {},
   "outputs": [],
   "source": [
    "grouped = tracts.groupby('COUNTY').sum().reset_index()\n",
    "# grouped\n",
    "grouped_formatted= grouped[['COUNTY', 'HU100']]\n",
    "grouped_formatted = grouped_formatted.rename(columns={\"HU100\": \"HUsummed\"})\n",
    "# grouped_formatted\n",
    "\n",
    "locations_arealand_HU100  = locations_arealand.merge(grouped_formatted, how=\"left\", on=\"COUNTY\")\n",
    "# locations_arealand_HU100\n",
    "\n",
    "train_hu, test_hu = train_test_split(locations_arealand_HU100, test_size=0.25, random_state=320)"
   ]
  },
  {
   "cell_type": "code",
   "execution_count": 15,
   "id": "91a92008",
   "metadata": {},
   "outputs": [
    {
     "data": {
      "text/plain": [
       "['Kewaunee County',\n",
       " 'Calumet County',\n",
       " 'Adams County',\n",
       " 'Eau Claire County',\n",
       " 'Milwaukee County',\n",
       " 'Ashland County',\n",
       " 'Wood County',\n",
       " 'Dodge County',\n",
       " 'Sauk County',\n",
       " 'Clark County',\n",
       " 'Pepin County',\n",
       " 'Taylor County',\n",
       " 'Iron County',\n",
       " 'Outagamie County',\n",
       " 'Florence County',\n",
       " 'Oneida County',\n",
       " 'Pierce County',\n",
       " 'Grant County']"
      ]
     },
     "execution_count": 15,
     "metadata": {},
     "output_type": "execute_result"
    }
   ],
   "source": [
    "#q6\n",
    "list(test_hu['NAME'].unique())\n"
   ]
  },
  {
   "cell_type": "code",
   "execution_count": 16,
   "id": "18fb3f77",
   "metadata": {},
   "outputs": [
    {
     "data": {
      "text/plain": [
       "{'Walworth County': 51531,\n",
       " 'Marquette County': 9896,\n",
       " 'Racine County': 82164,\n",
       " 'Waupaca County': 25396,\n",
       " 'Lincoln County': 16784,\n",
       " 'Washburn County': 12979,\n",
       " 'Door County': 23966,\n",
       " 'Waukesha County': 160864,\n",
       " 'Sheboygan County': 50766,\n",
       " 'La Crosse County': 48402,\n",
       " 'Langlade County': 12360,\n",
       " 'Marathon County': 57734,\n",
       " 'Jefferson County': 35147,\n",
       " 'Price County': 11120,\n",
       " 'Vilas County': 25116,\n",
       " 'Columbia County': 26137,\n",
       " 'Ozaukee County': 36267,\n",
       " 'Fond du Lac County': 43910,\n",
       " 'Crawford County': 8802,\n",
       " 'Lafayette County': 7230,\n",
       " 'Green County': 15856,\n",
       " 'Marinette County': 30379,\n",
       " 'Vernon County': 13720,\n",
       " 'Douglas County': 22825,\n",
       " 'Rock County': 68422,\n",
       " 'Iowa County': 10719,\n",
       " 'Dane County': 216022,\n",
       " 'Bayfield County': 12999,\n",
       " 'Polk County': 24248,\n",
       " 'Trempealeau County': 12619,\n",
       " 'Brown County': 104371,\n",
       " 'Washington County': 54695,\n",
       " 'Chippewa County': 27185,\n",
       " 'Oconto County': 23537,\n",
       " 'Richland County': 8868,\n",
       " 'Portage County': 30054,\n",
       " 'Sawyer County': 15975,\n",
       " 'Menominee County': 2253,\n",
       " 'Barron County': 23614,\n",
       " 'Shawano County': 20720,\n",
       " 'Winnebago County': 73329,\n",
       " 'Rusk County': 8883,\n",
       " 'Manitowoc County': 37189,\n",
       " 'Dunn County': 17964,\n",
       " 'Monroe County': 19204,\n",
       " 'Waushara County': 14843,\n",
       " 'Forest County': 8970,\n",
       " 'Green Lake County': 10616,\n",
       " 'Juneau County': 14669,\n",
       " 'St. Croix County': 33983,\n",
       " 'Buffalo County': 6664,\n",
       " 'Kenosha County': 69288,\n",
       " 'Jackson County': 9727,\n",
       " 'Burnett County': 15278}"
      ]
     },
     "execution_count": 16,
     "metadata": {},
     "output_type": "execute_result"
    }
   ],
   "source": [
    "#q7\n",
    "dict(zip(train_hu.NAME, train_hu.HUsummed))"
   ]
  },
  {
   "cell_type": "code",
   "execution_count": 17,
   "id": "092244bd",
   "metadata": {},
   "outputs": [
    {
     "data": {
      "text/plain": [
       "0.9652534544116037"
      ]
     },
     "execution_count": 17,
     "metadata": {},
     "output_type": "execute_result"
    }
   ],
   "source": [
    "#q8\n",
    "from sklearn.model_selection import cross_val_score\n",
    "lr_hu = LinearRegression()\n",
    "arr = cross_val_score(lr_hu, train_hu[[\"HUsummed\"]],train_hu[[\"POP100\"]],cv=5)\n",
    "np.average(arr)"
   ]
  },
  {
   "cell_type": "code",
   "execution_count": 18,
   "id": "183f0f99",
   "metadata": {},
   "outputs": [
    {
     "data": {
      "text/plain": [
       "0.03704265206670459"
      ]
     },
     "execution_count": 18,
     "metadata": {},
     "output_type": "execute_result"
    }
   ],
   "source": [
    "#q9\n",
    "np.std(arr)"
   ]
  },
  {
   "cell_type": "code",
   "execution_count": 19,
   "id": "b4afcd96",
   "metadata": {},
   "outputs": [],
   "source": [
    "lr_hu.fit(train_hu[[\"HUsummed\"]],train_hu[[\"POP100\"]])\n",
    "coef = lr_hu.coef_[0]\n",
    "intercept = lr_hu.intercept_"
   ]
  },
  {
   "cell_type": "code",
   "execution_count": 20,
   "id": "f5636a53",
   "metadata": {},
   "outputs": [
    {
     "data": {
      "text/plain": [
       "'POP100 = 2.39*HU100 + -7910.46'"
      ]
     },
     "execution_count": 20,
     "metadata": {},
     "output_type": "execute_result"
    }
   ],
   "source": [
    "#q10\n",
    "\"POP100 = 2.39*HU100 + -7910.46\""
   ]
  },
  {
   "cell_type": "code",
   "execution_count": 21,
   "id": "bc042ad4",
   "metadata": {},
   "outputs": [
    {
     "data": {
      "text/plain": [
       "Text(0, 0.5, 'POP100')"
      ]
     },
     "execution_count": 21,
     "metadata": {},
     "output_type": "execute_result"
    },
    {
     "data": {
      "image/png": "[encoded data removed]",
      "text/plain": [
       "<Figure size 720x432 with 1 Axes>"
      ]
     },
     "metadata": {
      "needs_background": "light"
     },
     "output_type": "display_data"
    }
   ],
   "source": [
    "#q11\n",
    "dane = locations_arealand_HU100.loc[locations_arealand_HU100['NAME']=='Dane County']\n",
    "\n",
    "fig = plt.figure(figsize=(10,6))\n",
    "ax = fig.add_subplot()\n",
    "\n",
    "ax.scatter(locations_arealand_HU100['HUsummed'],locations_arealand_HU100['POP100'],label='Actual' )\n",
    "ax.plot(locations_arealand_HU100['HUsummed'],locations_arealand_HU100['HUsummed']* coef+intercept,'red', label='predicted')\n",
    "ax.legend()\n",
    "ax.text(dane['HUsummed'],dane['POP100'], 'Dane',ha='left')\n",
    "ax.set_xlabel(\"HU100\")\n",
    "ax.set_ylabel(\"POP100\")\n"
   ]
  },
  {
   "cell_type": "code",
   "execution_count": 22,
   "id": "8794318c",
   "metadata": {},
   "outputs": [
    {
     "data": {
      "text/plain": [
       "12"
      ]
     },
     "execution_count": 22,
     "metadata": {},
     "output_type": "execute_result"
    }
   ],
   "source": [
    "#q12\n",
    "A = np.array([\n",
    "    [0,0,5,8,4],\n",
    "    [1,2,4,0,3],\n",
    "    [2,4,0,9,2],\n",
    "    [3,5,2,1,1],\n",
    "    [0,5,0,1,0]\n",
    "])\n",
    "\n",
    "len(A[np.where(np.logical_and(A>=2, A<=5))])\n"
   ]
  },
  {
   "cell_type": "code",
   "execution_count": 23,
   "id": "eecf57a7",
   "metadata": {},
   "outputs": [],
   "source": [
    "import rasterio\n",
    "import rasterio.features\n",
    "import rasterio.warp\n",
    "from matplotlib.colors import ListedColormap\n",
    "\n",
    "c = np.zeros((256,3))\n",
    "c[0] = [0.00000000000, 0.00000000000, 0.00000000000]\n",
    "c[11] = [0.27843137255, 0.41960784314, 0.62745098039]\n",
    "c[12] = [0.81960784314, 0.86666666667, 0.97647058824]\n",
    "c[21] = [0.86666666667, 0.78823529412, 0.78823529412]\n",
    "c[22] = [0.84705882353, 0.57647058824, 0.50980392157]\n",
    "c[23] = [0.92941176471, 0.00000000000, 0.00000000000]\n",
    "c[24] = [0.66666666667, 0.00000000000, 0.00000000000]\n",
    "c[31] = [0.69803921569, 0.67843137255, 0.63921568628]\n",
    "c[41] = [0.40784313726, 0.66666666667, 0.38823529412]\n",
    "c[42] = [0.10980392157, 0.38823529412, 0.18823529412]\n",
    "c[43] = [0.70980392157, 0.78823529412, 0.55686274510]\n",
    "c[51] = [0.64705882353, 0.54901960784, 0.18823529412]\n",
    "c[52] = [0.80000000000, 0.72941176471, 0.48627450980]\n",
    "c[71] = [0.88627450980, 0.88627450980, 0.75686274510]\n",
    "c[72] = [0.78823529412, 0.78823529412, 0.46666666667]\n",
    "c[73] = [0.60000000000, 0.75686274510, 0.27843137255]\n",
    "c[74] = [0.46666666667, 0.67843137255, 0.57647058824]\n",
    "c[81] = [0.85882352941, 0.84705882353, 0.23921568628]\n",
    "c[82] = [0.66666666667, 0.43921568628, 0.15686274510]\n",
    "c[90] = [0.72941176471, 0.84705882353, 0.91764705882]\n",
    "c[95] = [0.43921568628, 0.63921568628, 0.72941176471]\n",
    "custom_cmap = ListedColormap(c)"
   ]
  },
  {
   "cell_type": "code",
   "execution_count": 24,
   "id": "e5c682ea",
   "metadata": {},
   "outputs": [
    {
     "name": "stdout",
     "output_type": "stream",
     "text": [
      "                NAME  POP100  \\\n",
      "15  Milwaukee County  947735   \n",
      "\n",
      "                                             geometry  \n",
      "15  POLYGON ((-87.82631 42.84223, -87.82418 42.842...  \n"
     ]
    },
    {
     "data": {
      "text/plain": [
       "<matplotlib.image.AxesImage at 0x7fddea8687c0>"
      ]
     },
     "execution_count": 24,
     "metadata": {},
     "output_type": "execute_result"
    },
    {
     "data": {
      "image/png": "[encoded data removed]",
      "text/plain": [
       "<Figure size 864x864 with 1 Axes>"
      ]
     },
     "metadata": {
      "needs_background": "light"
     },
     "output_type": "display_data"
    }
   ],
   "source": [
    "#q13\n",
    "land = rasterio.open(\"zip://./land.zip!wi.tif\")  #매디슨 wi 전 지역 가져오기\n",
    "\n",
    "# 밀워키 polygon 가져오기\n",
    "counties = gpd.read_file('counties.geojson')\n",
    "milwaukee = counties.loc[counties['NAME'] == 'Milwaukee County']\n",
    "# milwaukee.plot()\n",
    "print(milwaukee)\n",
    "\n",
    "\n",
    "#rarsterio에 gpd 입력\n",
    "from rasterio.mask import mask\n",
    "matrix, _ = mask(land, milwaukee.to_crs(land.crs)[\"geometry\"], crop=True)\n",
    "matrix = matrix[0]\n",
    "\n",
    "fig, ax = plt.subplots(figsize=(12,12))\n",
    "ax.imshow(matrix, vmin=0, vmax=255,cmap=custom_cmap)\n"
   ]
  },
  {
   "cell_type": "code",
   "execution_count": 25,
   "id": "fdd9a8f6",
   "metadata": {},
   "outputs": [],
   "source": [
    "land_use = {\"open_water\": 11,\n",
    "            \"ice_snow\": 12,\n",
    "            \"developed_open\": 21,\n",
    "            \"developed_low\": 22,\n",
    "            \"developed_med\": 23,\n",
    "            \"developed_high\": 24,\n",
    "            \"barren\": 31,\n",
    "            \"deciduous\": 41,\n",
    "            \"evergreen\": 42,\n",
    "            \"mixed_forest\": 43,\n",
    "            \"dwarf_scrub\": 51,\n",
    "            \"shrub_scrub\": 52,\n",
    "            \"grassland\": 71,\n",
    "            \"sedge\": 72,\n",
    "            \"lichens\": 73,\n",
    "            \"moss\": 74,\n",
    "            \"pasture\": 81,\n",
    "            \"crops\": 82,\n",
    "            \"woody_wetlands\": 90,\n",
    "            \"herbacious_wetlands\": 95}"
   ]
  },
  {
   "cell_type": "code",
   "execution_count": 26,
   "id": "816fb33c",
   "metadata": {},
   "outputs": [
    {
     "data": {
      "text/plain": [
       "0.7963037455950543"
      ]
     },
     "execution_count": 26,
     "metadata": {},
     "output_type": "execute_result"
    }
   ],
   "source": [
    "#q14\n",
    "a = matrix.reshape(1,-1)\n",
    "water=0\n",
    "counter = 0\n",
    "for x in a[0]:\n",
    "    if x in land_use.values():\n",
    "        if x == land_use['open_water']:\n",
    "            water +=1\n",
    "        counter +=1\n",
    "        \n",
    "water/counter"
   ]
  },
  {
   "cell_type": "code",
   "execution_count": 27,
   "id": "560a9312",
   "metadata": {},
   "outputs": [
    {
     "data": {
      "text/plain": [
       "<AxesSubplot:xlabel='count', ylabel='POP100'>"
      ]
     },
     "execution_count": 27,
     "metadata": {},
     "output_type": "execute_result"
    },
    {
     "data": {
      "image/png": "[encoded data removed]",
      "text/plain": [
       "<Figure size 432x288 with 1 Axes>"
      ]
     },
     "metadata": {
      "needs_background": "light"
     },
     "output_type": "display_data"
    }
   ],
   "source": [
    "#q15\n",
    "relationship = {}\n",
    "\n",
    "for i in counties.to_crs(land.crs).itertuples():\n",
    "    matrix, _ = mask(land, [i.geometry], crop=True)\n",
    "    matrix = matrix[0]\n",
    "    \n",
    "    currdict={}\n",
    "    for num in land_use:\n",
    "        currdict[num]=0\n",
    "    a = matrix.reshape(1,-1)\n",
    "    \n",
    "#     barren = 31\n",
    "#     developed_med = 24\n",
    "#     openwater=11\n",
    "    unique, counts = np.unique(a, return_counts=True)\n",
    "    counts = dict(zip(unique, counts))\n",
    "\n",
    "    relationship[i.NAME] = counts[24]\n",
    "relationship\n",
    "\n",
    "attr_col = pd.DataFrame.from_dict(relationship,orient='index')\n",
    "formatted_attr_col = attr_col.reset_index().rename(columns={'index': 'NAME', 0:'count'})\n",
    "formatted_attr_col\n",
    "merged_countiesformatted_attr_col = counties.merge(formatted_attr_col, on='NAME', how='left')\n",
    "merged_countiesformatted_attr_col.plot.scatter('count', 'POP100')"
   ]
  },
  {
   "cell_type": "code",
   "execution_count": 28,
   "id": "4aafeee0",
   "metadata": {},
   "outputs": [
    {
     "data": {
      "text/plain": [
       "Text(0, 0.5, 'R^2 Score')"
      ]
     },
     "execution_count": 28,
     "metadata": {},
     "output_type": "execute_result"
    },
    {
     "data": {
      "image/png": "[encoded data removed]",
      "text/plain": [
       "<Figure size 432x288 with 1 Axes>"
      ]
     },
     "metadata": {
      "needs_background": "light"
     },
     "output_type": "display_data"
    }
   ],
   "source": [
    "#q16\n",
    "tracts = gpd.read_file(\"tracts.geojson\")\n",
    "\n",
    "relationship = {}\n",
    "\n",
    "for i in tracts.to_crs(land.crs).itertuples():\n",
    "    matrix, _ = mask(land, [i.geometry], crop=True)\n",
    "    matrix = matrix[0]\n",
    "\n",
    "    currdict={}\n",
    "    for num in land_use:\n",
    "        currdict[num]=0\n",
    "    a = matrix.reshape(1,-1)\n",
    "    \n",
    "    land_use_num = 23\n",
    "    \n",
    "    unique, counts = np.unique(a, return_counts=True)\n",
    "    count_dict = dict(zip(unique, counts))\n",
    "\n",
    "    if land_use_num in count_dict:\n",
    "        relationship[i.GEOID] = count_dict[land_use_num]\n",
    "    else:\n",
    "        relationship[i.GEOID] =0\n",
    "\n",
    "#count formatting for regression\n",
    "tract_developed_high = pd.DataFrame.from_dict(relationship,orient='index')\n",
    "formatted_tract_developed_high = tract_developed_high.reset_index().rename(columns={'index': 'GEOID', 0:'count'})\n",
    "merged_formatted_tract_developed_high = tracts.merge(formatted_tract_developed_high, on='GEOID', how='left')\n",
    "\n",
    "#split train test\n",
    "train_in, test_in = train_test_split(merged_formatted_tract_developed_high, test_size=0.25, random_state=320)\n",
    "\n",
    "#model 1\n",
    "lr_in = LinearRegression()\n",
    "lr_in.fit(train_in[['count']],train_in[[\"POP100\"]])\n",
    "\n",
    "#model 2\n",
    "from sklearn.preprocessing import PolynomialFeatures\n",
    "poly = PolynomialFeatures()\n",
    "X_poly = poly.fit_transform(train_in[['count']])\n",
    "poly = LinearRegression()\n",
    "\n",
    "# visualize\n",
    "scores1 = cross_val_score(lr_in, train_in[['count']],train_in[['POP100']])\n",
    "scores2 = cross_val_score(poly,  X_poly, train_in[['POP100']])\n",
    "avg = pd.Series({\"Pop Model\": scores1.mean(), \"Cases Model\": scores2.mean()})\n",
    "std = pd.Series({\"Pop Model\": scores1.std(), \"Cases Model\": scores2.std()})\n",
    "ax = avg.plot.bar(yerr=std)\n",
    "ax.set_ylabel(\"R^2 Score\")"
   ]
  },
  {
   "cell_type": "code",
   "execution_count": 29,
   "id": "cb94303c",
   "metadata": {},
   "outputs": [
    {
     "data": {
      "text/plain": [
       "0.3827922254716966"
      ]
     },
     "execution_count": 29,
     "metadata": {},
     "output_type": "execute_result"
    }
   ],
   "source": [
    "#q17\n",
    "\"I will use linear model because it has a difference with 3% difference, but having more stability for prediction\"\n",
    "scores1.mean()"
   ]
  },
  {
   "cell_type": "code",
   "execution_count": null,
   "id": "49c0584e",
   "metadata": {},
   "outputs": [],
   "source": []
  },
  {
   "cell_type": "code",
   "execution_count": null,
   "id": "bd35d43b",
   "metadata": {},
   "outputs": [],
   "source": []
  },
  {
   "cell_type": "code",
   "execution_count": null,
   "id": "4a66c479",
   "metadata": {},
   "outputs": [],
   "source": []
  },
  {
   "cell_type": "code",
   "execution_count": null,
   "id": "a14a5b2e",
   "metadata": {},
   "outputs": [],
   "source": []
  },
  {
   "cell_type": "code",
   "execution_count": null,
   "id": "e9cd1a73",
   "metadata": {},
   "outputs": [],
   "source": []
  },
  {
   "cell_type": "code",
   "execution_count": null,
   "id": "50c90571",
   "metadata": {},
   "outputs": [],
   "source": []
  },
  {
   "cell_type": "code",
   "execution_count": null,
   "id": "74c4fe41",
   "metadata": {},
   "outputs": [],
   "source": []
  },
  {
   "cell_type": "code",
   "execution_count": null,
   "id": "25cc8494",
   "metadata": {},
   "outputs": [],
   "source": []
  },
  {
   "cell_type": "code",
   "execution_count": null,
   "id": "b8449d61",
   "metadata": {},
   "outputs": [],
   "source": []
  }
 ],
 "metadata": {
  "kernelspec": {
   "display_name": "Python 3 (ipykernel)",
   "language": "python",
   "name": "python3"
  },
  "language_info": {
   "codemirror_mode": {
    "name": "ipython",
    "version": 3
   },
   "file_extension": ".py",
   "mimetype": "text/x-python",
   "name": "python",
   "nbconvert_exporter": "python",
   "pygments_lexer": "ipython3",
   "version": "3.8.10"
  }
 },
 "nbformat": 4,
 "nbformat_minor": 5
}
